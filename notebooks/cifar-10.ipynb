{
 "cells": [
  {
   "cell_type": "code",
   "execution_count": 1,
   "metadata": {
    "colab": {
     "base_uri": "https://localhost:8080/",
     "height": 129
    },
    "colab_type": "code",
    "executionInfo": {
     "elapsed": 23489,
     "status": "ok",
     "timestamp": 1565515269955,
     "user": {
      "displayName": "Simrandeep Singh",
      "photoUrl": "",
      "userId": "05151590984246864371"
     },
     "user_tz": -720
    },
    "id": "KdA6ej--Pz6q",
    "outputId": "7514a004-a3ea-4f49-da73-936a8ac79b77"
   },
   "outputs": [
    {
     "name": "stdout",
     "output_type": "stream",
     "text": [
      "Go to this URL in a browser: https://accounts.google.com/o/oauth2/auth?client_id=947318989803-6bn6qk8qdgf4n4g3pfee6491hc0brc4i.apps.googleusercontent.com&redirect_uri=urn%3Aietf%3Awg%3Aoauth%3A2.0%3Aoob&scope=email%20https%3A%2F%2Fwww.googleapis.com%2Fauth%2Fdocs.test%20https%3A%2F%2Fwww.googleapis.com%2Fauth%2Fdrive%20https%3A%2F%2Fwww.googleapis.com%2Fauth%2Fdrive.photos.readonly%20https%3A%2F%2Fwww.googleapis.com%2Fauth%2Fpeopleapi.readonly&response_type=code\n",
      "\n",
      "Enter your authorization code:\n",
      "··········\n",
      "Mounted at /content/drive\n"
     ]
    }
   ],
   "source": [
    "from google.colab import drive\n",
    "drive.mount('/content/drive')"
   ]
  },
  {
   "cell_type": "code",
   "execution_count": 14,
   "metadata": {
    "colab": {
     "base_uri": "https://localhost:8080/",
     "height": 35
    },
    "colab_type": "code",
    "executionInfo": {
     "elapsed": 750,
     "status": "ok",
     "timestamp": 1565517689396,
     "user": {
      "displayName": "Simrandeep Singh",
      "photoUrl": "",
      "userId": "05151590984246864371"
     },
     "user_tz": -720
    },
    "id": "5T9yf1okHzAu",
    "outputId": "f416e46a-9c5f-4653-a18b-bae93230ce5d"
   },
   "outputs": [
    {
     "data": {
      "text/plain": [
       "'1.14.0'"
      ]
     },
     "execution_count": 14,
     "metadata": {
      "tags": []
     },
     "output_type": "execute_result"
    }
   ],
   "source": [
    "tf.__version__"
   ]
  },
  {
   "cell_type": "code",
   "execution_count": 3,
   "metadata": {
    "colab": {
     "base_uri": "https://localhost:8080/",
     "height": 421
    },
    "colab_type": "code",
    "executionInfo": {
     "elapsed": 168240,
     "status": "ok",
     "timestamp": 1565515575511,
     "user": {
      "displayName": "Simrandeep Singh",
      "photoUrl": "",
      "userId": "05151590984246864371"
     },
     "user_tz": -720
    },
    "id": "L9I8IJqZKrUp",
    "outputId": "873312ff-b87c-4c82-b6ee-43e0f7778d3c"
   },
   "outputs": [
    {
     "name": "stdout",
     "output_type": "stream",
     "text": [
      "Collecting git+https://github.com/scikit-learn/scikit-learn.git\n",
      "  Cloning https://github.com/scikit-learn/scikit-learn.git to /tmp/pip-req-build-0f2uszx4\n",
      "  Running command git clone -q https://github.com/scikit-learn/scikit-learn.git /tmp/pip-req-build-0f2uszx4\n",
      "Requirement already satisfied: numpy>=1.11.0 in /usr/local/lib/python3.6/dist-packages (from scikit-learn==0.22.dev0) (1.16.4)\n",
      "Requirement already satisfied: scipy>=0.17.0 in /usr/local/lib/python3.6/dist-packages (from scikit-learn==0.22.dev0) (1.3.0)\n",
      "Requirement already satisfied: joblib>=0.11 in /usr/local/lib/python3.6/dist-packages (from scikit-learn==0.22.dev0) (0.13.2)\n",
      "Building wheels for collected packages: scikit-learn\n",
      "  Building wheel for scikit-learn (setup.py) ... \u001b[?25l\u001b[?25hdone\n",
      "  Created wheel for scikit-learn: filename=scikit_learn-0.22.dev0-cp36-cp36m-linux_x86_64.whl size=16642114 sha256=912398274a72156d02ec5fd960647334dd2702b66db99562efc14b94bfcec3c5\n",
      "  Stored in directory: /tmp/pip-ephem-wheel-cache-18ym49ce/wheels/7a/25/c4/63026649a3d39acb6ae783b2c72fcbe96f4ed2aa61c33edc1b\n",
      "Successfully built scikit-learn\n",
      "Installing collected packages: scikit-learn\n",
      "  Found existing installation: scikit-learn 0.21.3\n",
      "    Uninstalling scikit-learn-0.21.3:\n",
      "      Successfully uninstalled scikit-learn-0.21.3\n",
      "Successfully installed scikit-learn-0.22.dev0\n"
     ]
    },
    {
     "data": {
      "application/vnd.colab-display-data+json": {
       "pip_warning": {
        "packages": [
         "sklearn"
        ]
       }
      }
     },
     "metadata": {
      "tags": []
     },
     "output_type": "display_data"
    }
   ],
   "source": [
    "# installing dev libraries\n",
    "!pip install git+https://github.com/scikit-learn/scikit-learn.git"
   ]
  },
  {
   "cell_type": "code",
   "execution_count": 1,
   "metadata": {
    "colab": {
     "base_uri": "https://localhost:8080/",
     "height": 35
    },
    "colab_type": "code",
    "executionInfo": {
     "elapsed": 2381,
     "status": "ok",
     "timestamp": 1565516011427,
     "user": {
      "displayName": "Simrandeep Singh",
      "photoUrl": "",
      "userId": "05151590984246864371"
     },
     "user_tz": -720
    },
    "id": "SYhhwcpDXmeY",
    "outputId": "67af5976-6758-47db-f091-86bda0fa9010"
   },
   "outputs": [
    {
     "name": "stderr",
     "output_type": "stream",
     "text": [
      "Using TensorFlow backend.\n"
     ]
    }
   ],
   "source": [
    "from tensorflow import keras\n",
    "from tensorflow.keras import optimizers\n",
    "from tensorflow.keras.models import Sequential, load_model\n",
    "from tensorflow.keras.layers import Conv2D, Dense, Flatten, Dropout\n",
    "from tensorflow.keras.layers import LeakyReLU, ELU, ReLU\n",
    "from keras.wrappers.scikit_learn import KerasClassifier\n",
    "\n",
    "from sklearn.model_selection import RandomizedSearchCV, GridSearchCV\n",
    "from sklearn.metrics import confusion_matrix, classification_report\n",
    "\n",
    "import tensorflow as tf\n",
    "import numpy as np\n",
    "import pandas as pd\n",
    "import seaborn as sns\n",
    "\n",
    "import matplotlib.pyplot as plt\n",
    "%matplotlib inline"
   ]
  },
  {
   "cell_type": "markdown",
   "metadata": {
    "colab_type": "text",
    "id": "utE06WKYXmem"
   },
   "source": [
    "### load and split the data set into relavant train test sets "
   ]
  },
  {
   "cell_type": "code",
   "execution_count": 2,
   "metadata": {
    "colab": {
     "base_uri": "https://localhost:8080/",
     "height": 0
    },
    "colab_type": "code",
    "executionInfo": {
     "elapsed": 5281,
     "status": "ok",
     "timestamp": 1565516023587,
     "user": {
      "displayName": "Simrandeep Singh",
      "photoUrl": "",
      "userId": "05151590984246864371"
     },
     "user_tz": -720
    },
    "id": "cndb0sQxXmep",
    "outputId": "1f1acca2-eb79-4858-9dc7-dbc1e58bfc6d"
   },
   "outputs": [],
   "source": [
    "(x_train, y_train), (x_test, y_test) = keras.datasets.cifar10.load_data()"
   ]
  },
  {
   "cell_type": "code",
   "execution_count": 3,
   "metadata": {
    "colab": {
     "base_uri": "https://localhost:8080/",
     "height": 0
    },
    "colab_type": "code",
    "executionInfo": {
     "elapsed": 5079,
     "status": "ok",
     "timestamp": 1565516023588,
     "user": {
      "displayName": "Simrandeep Singh",
      "photoUrl": "",
      "userId": "05151590984246864371"
     },
     "user_tz": -720
    },
    "id": "tmR4CznoXmex",
    "outputId": "4215dd70-4b41-41ea-ff5b-bfb7c6ad9d8e"
   },
   "outputs": [
    {
     "name": "stdout",
     "output_type": "stream",
     "text": [
      "(50000, 32, 32, 3) (50000, 1) (10000, 32, 32, 3) (10000, 1)\n"
     ]
    }
   ],
   "source": [
    "print(x_train.shape, y_train.shape, x_test.shape, y_test.shape)\n",
    "\n",
    "# from the shapes, we can expect to see images of 32 x 32 pixels\n",
    "# this is very small but hopefully enough to learn some features. \n",
    "\n",
    "# there are 50,000 images in the training set and 10000 images in the test set, same pixel size\n",
    "# they are coloured images (repersented by the 3 in (50000, 32, 32, 3) which could \n",
    "# be better than training against black n white give the image size. "
   ]
  },
  {
   "cell_type": "markdown",
   "metadata": {
    "colab_type": "text",
    "id": "fE5P2U4MXme5"
   },
   "source": [
    "### viusalisation of data checking the categories of labels that we have"
   ]
  },
  {
   "cell_type": "code",
   "execution_count": 0,
   "metadata": {
    "colab": {
     "base_uri": "https://localhost:8080/",
     "height": 35
    },
    "colab_type": "code",
    "executionInfo": {
     "elapsed": 951,
     "status": "ok",
     "timestamp": 1565362083821,
     "user": {
      "displayName": "Simrandeep Singh",
      "photoUrl": "",
      "userId": "05151590984246864371"
     },
     "user_tz": -720
    },
    "id": "i7lRC4yrXme7",
    "outputId": "41e5a949-9aff-4f8f-c586-6f9b949e7dad"
   },
   "outputs": [
    {
     "data": {
      "text/plain": [
       "[0, 1, 2, 3, 4, 5, 6, 7, 8, 9]"
      ]
     },
     "execution_count": 19,
     "metadata": {
      "tags": []
     },
     "output_type": "execute_result"
    }
   ],
   "source": [
    "label_num = list(set(tuple(label)[0] for label in y_train))\n",
    "label_num.sort()\n",
    "label_num\n",
    "\n",
    "# we can see that 10 classes are present\n",
    "# just to make life easier for us we are going to convert this into\n",
    "# a dict object so we can refer back to it later. "
   ]
  },
  {
   "cell_type": "code",
   "execution_count": 0,
   "metadata": {
    "colab": {
     "base_uri": "https://localhost:8080/",
     "height": 201
    },
    "colab_type": "code",
    "executionInfo": {
     "elapsed": 465,
     "status": "ok",
     "timestamp": 1565362083823,
     "user": {
      "displayName": "Simrandeep Singh",
      "photoUrl": "",
      "userId": "05151590984246864371"
     },
     "user_tz": -720
    },
    "id": "38T3M5PNXmfC",
    "outputId": "8848c817-03ba-45ce-9010-8c8bd9b939a5"
   },
   "outputs": [
    {
     "data": {
      "text/plain": [
       "{0: 'airplane',\n",
       " 1: 'automobile',\n",
       " 2: 'bird',\n",
       " 3: 'cat',\n",
       " 4: 'deer',\n",
       " 5: 'dog',\n",
       " 6: 'frog',\n",
       " 7: 'horse',\n",
       " 8: 'ship',\n",
       " 9: 'truck'}"
      ]
     },
     "execution_count": 20,
     "metadata": {
      "tags": []
     },
     "output_type": "execute_result"
    }
   ],
   "source": [
    "# these classes are taken from the cifar-10 website and documentation. \n",
    "label_word = ['airplane','automobile','bird','cat','deer','dog','frog','horse','ship','truck']\n",
    "\n",
    "# creating the dict obj\n",
    "label_dict = {num: name for num, name in list(zip(label_num, label_word))}\n",
    "\n",
    "label_dict"
   ]
  },
  {
   "cell_type": "code",
   "execution_count": 0,
   "metadata": {
    "colab": {
     "base_uri": "https://localhost:8080/",
     "height": 1000
    },
    "colab_type": "code",
    "executionInfo": {
     "elapsed": 2363,
     "status": "ok",
     "timestamp": 1564492733553,
     "user": {
      "displayName": "Simrandeep Singh",
      "photoUrl": "",
      "userId": "05151590984246864371"
     },
     "user_tz": -720
    },
    "id": "2fA9seceXmfJ",
    "outputId": "200a4319-4e1c-44e3-d1a3-33643307d4d9"
   },
   "outputs": [
    {
     "data": {
      "image/png": "[encoded data removed]",
      "text/plain": [
       "<Figure size 432x288 with 1 Axes>"
      ]
     },
     "metadata": {
      "tags": []
     },
     "output_type": "display_data"
    },
    {
     "data": {
      "image/png": "[encoded data removed]",
      "text/plain": [
       "<Figure size 432x288 with 1 Axes>"
      ]
     },
     "metadata": {
      "tags": []
     },
     "output_type": "display_data"
    },
    {
     "data": {
      "image/png": "[encoded data removed]",
      "text/plain": [
       "<Figure size 432x288 with 1 Axes>"
      ]
     },
     "metadata": {
      "tags": []
     },
     "output_type": "display_data"
    },
    {
     "data": {
      "image/png": "[encoded data removed]",
      "text/plain": [
       "<Figure size 432x288 with 1 Axes>"
      ]
     },
     "metadata": {
      "tags": []
     },
     "output_type": "display_data"
    },
    {
     "data": {
      "image/png": "[encoded data removed]",
      "text/plain": [
       "<Figure size 432x288 with 1 Axes>"
      ]
     },
     "metadata": {
      "tags": []
     },
     "output_type": "display_data"
    },
    {
     "data": {
      "image/png": "[encoded data removed]",
      "text/plain": [
       "<Figure size 432x288 with 1 Axes>"
      ]
     },
     "metadata": {
      "tags": []
     },
     "output_type": "display_data"
    },
    {
     "data": {
      "image/png": "[encoded data removed]",
      "text/plain": [
       "<Figure size 432x288 with 1 Axes>"
      ]
     },
     "metadata": {
      "tags": []
     },
     "output_type": "display_data"
    },
    {
     "data": {
      "image/png": "[encoded data removed]",
      "text/plain": [
       "<Figure size 432x288 with 1 Axes>"
      ]
     },
     "metadata": {
      "tags": []
     },
     "output_type": "display_data"
    },
    {
     "data": {
      "image/png": "[encoded data removed]",
      "text/plain": [
       "<Figure size 432x288 with 1 Axes>"
      ]
     },
     "metadata": {
      "tags": []
     },
     "output_type": "display_data"
    },
    {
     "data": {
      "image/png": "[encoded data removed]",
      "text/plain": [
       "<Figure size 432x288 with 1 Axes>"
      ]
     },
     "metadata": {
      "tags": []
     },
     "output_type": "display_data"
    }
   ],
   "source": [
    "for i in range(10):\n",
    "    plt.imshow(x_train[i])\n",
    "    \n",
    "    #adding the title \n",
    "    plt.title(label_dict[y_train[i][0]])\n",
    "\n",
    "    plt.show()\n",
    "\n",
    "# that picture quality tho... \n",
    "# but from the images we can see that the label correspond properly\n"
   ]
  },
  {
   "cell_type": "code",
   "execution_count": 0,
   "metadata": {
    "colab": {
     "base_uri": "https://localhost:8080/",
     "height": 35
    },
    "colab_type": "code",
    "executionInfo": {
     "elapsed": 474,
     "status": "ok",
     "timestamp": 1564492734004,
     "user": {
      "displayName": "Simrandeep Singh",
      "photoUrl": "",
      "userId": "05151590984246864371"
     },
     "user_tz": -720
    },
    "id": "ahW576yVXmfR",
    "outputId": "50596eaf-a587-4020-f71e-71fe82993a8c"
   },
   "outputs": [
    {
     "name": "stdout",
     "output_type": "stream",
     "text": [
      "{6: 5000, 9: 5000, 4: 5000, 1: 5000, 2: 5000, 7: 5000, 8: 5000, 3: 5000, 5: 5000, 0: 5000}\n"
     ]
    }
   ],
   "source": [
    "# creating a image counter to see the distribution of images and measure spread of classes\n",
    "image_count = {}\n",
    "\n",
    "for i in y_train:\n",
    "    if i[0] in label_num:\n",
    "        if i[0] in image_count.keys(): \n",
    "            image_count[i[0]] += 1\n",
    "        else:\n",
    "            image_count[i[0]] = 1\n",
    "            \n",
    "# from this print statement below we can clearly see that all classes are even and there is no imbalance problem.\n",
    "print(image_count)    "
   ]
  },
  {
   "cell_type": "code",
   "execution_count": 0,
   "metadata": {
    "colab": {
     "base_uri": "https://localhost:8080/",
     "height": 301
    },
    "colab_type": "code",
    "executionInfo": {
     "elapsed": 1558,
     "status": "ok",
     "timestamp": 1564479632816,
     "user": {
      "displayName": "Simrandeep Singh",
      "photoUrl": "",
      "userId": "05151590984246864371"
     },
     "user_tz": -720
    },
    "id": "S5GUKN6-Xmfa",
    "outputId": "e9be66bb-e9a7-42bc-c235-ee5810db56ab"
   },
   "outputs": [
    {
     "data": {
      "text/plain": [
       "Text(0, 0.5, 'number of training images')"
      ]
     },
     "execution_count": 17,
     "metadata": {
      "tags": []
     },
     "output_type": "execute_result"
    },
    {
     "data": {
      "image/png": "[encoded data removed]",
      "text/plain": [
       "<Figure size 432x288 with 1 Axes>"
      ]
     },
     "metadata": {
      "tags": []
     },
     "output_type": "display_data"
    }
   ],
   "source": [
    "# just to confirm and make it visually understandable \n",
    "plt.bar(list(image_count.keys()), list(image_count.values()))\n",
    "plt.xticks(list(image_count.keys()))\n",
    "\n",
    "plt.xlabel('class')\n",
    "plt.ylabel('number of training images')"
   ]
  },
  {
   "cell_type": "markdown",
   "metadata": {
    "colab_type": "text",
    "id": "SjJvTfNrXmfn"
   },
   "source": [
    "### data preprocessing"
   ]
  },
  {
   "cell_type": "code",
   "execution_count": 0,
   "metadata": {
    "colab": {
     "base_uri": "https://localhost:8080/",
     "height": 306
    },
    "colab_type": "code",
    "executionInfo": {
     "elapsed": 893,
     "status": "ok",
     "timestamp": 1564479633226,
     "user": {
      "displayName": "Simrandeep Singh",
      "photoUrl": "",
      "userId": "05151590984246864371"
     },
     "user_tz": -720
    },
    "id": "DnluIb4pXmfq",
    "outputId": "2eb6ab23-f06e-4f5a-e91c-802ad4013b69"
   },
   "outputs": [
    {
     "name": "stdout",
     "output_type": "stream",
     "text": [
      "0\n",
      "255\n"
     ]
    },
    {
     "data": {
      "image/png": "[encoded data removed]",
      "text/plain": [
       "<Figure size 432x288 with 1 Axes>"
      ]
     },
     "metadata": {
      "tags": []
     },
     "output_type": "display_data"
    }
   ],
   "source": [
    "# normalisation is quite important in any ML use case\n",
    "# normalisation is the process of evening out the inputs\n",
    "# of the model, within a certain range either -1 --> +1 or\n",
    "# 0 --> +1 to ensure that there isnt any off shoot during training.\n",
    "# this also ensures that the attributes are treated evenly by the model. \n",
    "\n",
    "# if we do a histogram and min/max of our pixel values of the model \n",
    "# we can see the range is from 0 --> 255. \n",
    "\n",
    "plt.hist(x_train[0].flatten())\n",
    "print(min(x_train[0].flatten()))\n",
    "print(max(x_train[0].flatten()))\n"
   ]
  },
  {
   "cell_type": "code",
   "execution_count": 4,
   "metadata": {
    "colab": {},
    "colab_type": "code",
    "id": "r-TTJIv0Xmfv"
   },
   "outputs": [],
   "source": [
    "# we can simply divide these values by 255 to get values between 0-1\n",
    "x_train, x_test = x_train/255., x_test/255."
   ]
  },
  {
   "cell_type": "code",
   "execution_count": 0,
   "metadata": {
    "colab": {
     "base_uri": "https://localhost:8080/",
     "height": 306
    },
    "colab_type": "code",
    "executionInfo": {
     "elapsed": 807,
     "status": "ok",
     "timestamp": 1564479634577,
     "user": {
      "displayName": "Simrandeep Singh",
      "photoUrl": "",
      "userId": "05151590984246864371"
     },
     "user_tz": -720
    },
    "id": "5K8e4_dSXmf0",
    "outputId": "eacb043f-934f-481f-9329-f1ed84e1d898"
   },
   "outputs": [
    {
     "name": "stdout",
     "output_type": "stream",
     "text": [
      "0.0\n",
      "1.0\n"
     ]
    },
    {
     "data": {
      "image/png": "[encoded data removed]",
      "text/plain": [
       "<Figure size 432x288 with 1 Axes>"
      ]
     },
     "metadata": {
      "tags": []
     },
     "output_type": "display_data"
    }
   ],
   "source": [
    "# now checking the shaped annd plotting the above graph and extracting\n",
    "# min/max values from our datasets\n",
    "\n",
    "plt.hist(x_train[0].flatten())\n",
    "print(min(x_train[0].flatten()))\n",
    "print(max(x_train[0].flatten()))"
   ]
  },
  {
   "cell_type": "markdown",
   "metadata": {
    "colab_type": "text",
    "id": "ntEhn06x_uU_"
   },
   "source": [
    "## Building and Tuning model Manually "
   ]
  },
  {
   "cell_type": "markdown",
   "metadata": {
    "colab_type": "text",
    "id": "3WupAuOkEWa2"
   },
   "source": [
    "The Cifar-10 dataset is commonly used as a benchmark for testing newly developed architectures. It contains 60,000 images\n",
    "in total across 10 classes. For our purposes the data is split into 50,000 training and 10,000 testing. \n",
    "For these experiments the metric we chose to track is accuracy as it repersents the output perfectly. We have a balanced number of \n",
    "training samples per class. We will look at some in-depth methods like confusions matrix etc later on. \n",
    "\n",
    "Initially I experimented with tuning the number of filters in each convolutional layer. In my experience, I start off with a large number,\n",
    "like 256 and half it the next layer. In this case, the image size was very small, only 32x32 so therefore I decided to start with 32 filters in the first Conv2D layer and in the next 2 layers, 16 and 8 filters. \n",
    "\n",
    "The kernel size and stride were very important aswell and i started off with the usual 3x3 kernel size with a tride of 1. This was so\n",
    "that there is still some image left for the model to extract high level detail out of. These param values were kept for all 3 conv2d layers. \n",
    "This gave us a baseline Validation accuracy of 66%.\n",
    "\n",
    "Next step was increasing the filters as i thought about how many different edges, curves, corners could be present in 50,000 images. Found Validation accuracy level off at ~73% with 128, 64 and 32 filters per layer. \n",
    "\n",
    "After this I adjusted the nodes in the dense layer. As there is no golden rule, i used a trusted formula (used in academic research) which is nodes = (number of attributes + number of classes) / 2. this bought the accuracy to ~70% but as i scaled down so i added another dense layer \n",
    "which didnt seen to help. Sticking with 2 Dense layers and adding 800 / 400 nodes per layer we recieved an Validation accuracy of ~75%.\n",
    "\n",
    "In academic literature ReLU has been surpassed by LeakyReLu and PRReLU as ReLU has a problem called the 'dying ReLU' problem which outputs the same value for any input. LeakyReLU provided better results (than PRReLU and ReLU) bumping our validation accuracy to ~76%. \n",
    "\n",
    "By adjusting our kernel size in our first layer to 4x4, reducing our third Conv2d stride to 1x1 and removing all max pooling layers we achieved and validation accuracy of ~77.3%\n",
    "\n",
    "The magic ~80.2% val accuracy (and 76% test) came when we started looking at different combinations of dropout values (and luck with random numbers). A dropout layer prevents overfitting by 'dropping out' excessive parameters."
   ]
  },
  {
   "cell_type": "code",
   "execution_count": 5,
   "metadata": {
    "colab": {
     "base_uri": "https://localhost:8080/",
     "height": 110
    },
    "colab_type": "code",
    "executionInfo": {
     "elapsed": 883,
     "status": "ok",
     "timestamp": 1565516027960,
     "user": {
      "displayName": "Simrandeep Singh",
      "photoUrl": "",
      "userId": "05151590984246864371"
     },
     "user_tz": -720
    },
    "id": "8M_CW6ewXmf7",
    "outputId": "f1f46dd8-76ef-4c85-9659-7213e71fa92f"
   },
   "outputs": [
    {
     "name": "stderr",
     "output_type": "stream",
     "text": [
      "WARNING: Logging before flag parsing goes to stderr.\n",
      "W0816 23:36:03.569368 12724 deprecation.py:506] From D:\\ProgramData\\Miniconda3\\envs\\msa\\lib\\site-packages\\tensorflow\\python\\ops\\init_ops.py:1251: calling VarianceScaling.__init__ (from tensorflow.python.ops.init_ops) with dtype is deprecated and will be removed in a future version.\n",
      "Instructions for updating:\n",
      "Call initializer instance with the dtype argument instead of passing it to the constructor\n"
     ]
    }
   ],
   "source": [
    "model = Sequential()\n",
    "\n",
    "model.add(Conv2D(128, (4, 4), (2, 2), input_shape=(32, 32, 3)))\n",
    "model.add(LeakyReLU(alpha=0.30))\n",
    "model.add(Dropout(0.1))\n",
    "\n",
    "model.add(Conv2D(64, (3, 3), (2, 2)))\n",
    "model.add(LeakyReLU(alpha=0.30))\n",
    "model.add(Dropout(0.2))\n",
    "\n",
    "model.add(Conv2D(32, (3, 3), (1, 1)))\n",
    "model.add(LeakyReLU(alpha=0.30))\n",
    "model.add(Dropout(0.4))\n",
    "\n",
    "model.add(Flatten())\n",
    "\n",
    "model.add(Dense(800))\n",
    "model.add(LeakyReLU(alpha=0.30))\n",
    "model.add(Dropout(0.1))\n",
    "\n",
    "model.add(Dense(400))\n",
    "model.add(LeakyReLU(alpha=0.30))\n",
    "model.add(Dropout(0.2))\n",
    "\n",
    "model.add(Dense(10, activation='softmax'))\n",
    "\n",
    "optimizers.SGD(lr = 0.0001)\n",
    "\n",
    "model.compile(optimizer='sgd', loss='sparse_categorical_crossentropy', metrics=['accuracy'])\n",
    "\n"
   ]
  },
  {
   "cell_type": "code",
   "execution_count": 6,
   "metadata": {
    "colab": {
     "base_uri": "https://localhost:8080/",
     "height": 1000
    },
    "colab_type": "code",
    "executionInfo": {
     "elapsed": 1253405,
     "status": "ok",
     "timestamp": 1565517280787,
     "user": {
      "displayName": "Simrandeep Singh",
      "photoUrl": "",
      "userId": "05151590984246864371"
     },
     "user_tz": -720
    },
    "id": "5JG0TyezXmf9",
    "outputId": "7a80dbe0-fb26-402f-a765-2a60e6d2eabb",
    "scrolled": true
   },
   "outputs": [
    {
     "name": "stdout",
     "output_type": "stream",
     "text": [
      "Train on 49500 samples, validate on 500 samples\n",
      "Epoch 1/100\n",
      "49500/49500 [==============================] - 23s 467us/sample - loss: 2.0813 - acc: 0.2298 - val_loss: 1.8817 - val_acc: 0.3520\n",
      "Epoch 2/100\n",
      "49500/49500 [==============================] - 8s 166us/sample - loss: 1.8167 - acc: 0.3486 - val_loss: 1.6750 - val_acc: 0.4180\n",
      "Epoch 3/100\n",
      "49500/49500 [==============================] - 8s 166us/sample - loss: 1.6782 - acc: 0.3968 - val_loss: 1.6036 - val_acc: 0.4400\n",
      "Epoch 4/100\n",
      "49500/49500 [==============================] - 8s 164us/sample - loss: 1.5733 - acc: 0.4309 - val_loss: 1.4760 - val_acc: 0.4700\n",
      "Epoch 5/100\n",
      "49500/49500 [==============================] - 8s 165us/sample - loss: 1.5061 - acc: 0.4583 - val_loss: 1.3812 - val_acc: 0.5160\n",
      "Epoch 6/100\n",
      "49500/49500 [==============================] - 8s 166us/sample - loss: 1.4536 - acc: 0.4741 - val_loss: 1.3913 - val_acc: 0.4920\n",
      "Epoch 7/100\n",
      "49500/49500 [==============================] - 8s 165us/sample - loss: 1.4176 - acc: 0.4898 - val_loss: 1.3150 - val_acc: 0.5260\n",
      "Epoch 8/100\n",
      "49500/49500 [==============================] - 8s 165us/sample - loss: 1.3781 - acc: 0.5044 - val_loss: 1.3234 - val_acc: 0.5120\n",
      "Epoch 9/100\n",
      "49500/49500 [==============================] - 8s 165us/sample - loss: 1.3467 - acc: 0.5145 - val_loss: 1.2427 - val_acc: 0.5340\n",
      "Epoch 10/100\n",
      "49500/49500 [==============================] - 8s 165us/sample - loss: 1.3212 - acc: 0.5234 - val_loss: 1.2098 - val_acc: 0.5520\n",
      "Epoch 11/100\n",
      "49500/49500 [==============================] - 8s 166us/sample - loss: 1.2976 - acc: 0.5328 - val_loss: 1.1838 - val_acc: 0.5540\n",
      "Epoch 12/100\n",
      "49500/49500 [==============================] - 8s 164us/sample - loss: 1.2740 - acc: 0.5433 - val_loss: 1.1793 - val_acc: 0.5820\n",
      "Epoch 13/100\n",
      "49500/49500 [==============================] - 8s 171us/sample - loss: 1.2534 - acc: 0.5514 - val_loss: 1.1611 - val_acc: 0.5740\n",
      "Epoch 14/100\n",
      "49500/49500 [==============================] - 8s 162us/sample - loss: 1.2321 - acc: 0.5589 - val_loss: 1.1163 - val_acc: 0.5960\n",
      "Epoch 15/100\n",
      "49500/49500 [==============================] - 8s 163us/sample - loss: 1.2167 - acc: 0.5673 - val_loss: 1.1022 - val_acc: 0.6060\n",
      "Epoch 16/100\n",
      "49500/49500 [==============================] - 8s 167us/sample - loss: 1.1976 - acc: 0.5707 - val_loss: 1.1040 - val_acc: 0.5980\n",
      "Epoch 17/100\n",
      "49500/49500 [==============================] - 8s 165us/sample - loss: 1.1783 - acc: 0.5786 - val_loss: 1.0726 - val_acc: 0.6260\n",
      "Epoch 18/100\n",
      "49500/49500 [==============================] - 8s 165us/sample - loss: 1.1667 - acc: 0.5809 - val_loss: 1.1009 - val_acc: 0.5980\n",
      "Epoch 19/100\n",
      "49500/49500 [==============================] - 8s 169us/sample - loss: 1.1515 - acc: 0.5878 - val_loss: 1.0356 - val_acc: 0.6360\n",
      "Epoch 20/100\n",
      "49500/49500 [==============================] - 8s 166us/sample - loss: 1.1333 - acc: 0.5928 - val_loss: 1.0605 - val_acc: 0.6160\n",
      "Epoch 21/100\n",
      "49500/49500 [==============================] - 9s 175us/sample - loss: 1.1228 - acc: 0.5999 - val_loss: 1.0379 - val_acc: 0.6200\n",
      "Epoch 22/100\n",
      "49500/49500 [==============================] - 9s 172us/sample - loss: 1.1095 - acc: 0.6057 - val_loss: 0.9938 - val_acc: 0.6540\n",
      "Epoch 23/100\n",
      "49500/49500 [==============================] - 8s 168us/sample - loss: 1.0994 - acc: 0.6069 - val_loss: 1.0019 - val_acc: 0.6680\n",
      "Epoch 24/100\n",
      "49500/49500 [==============================] - 8s 165us/sample - loss: 1.0849 - acc: 0.6146 - val_loss: 0.9941 - val_acc: 0.6440\n",
      "Epoch 25/100\n",
      "49500/49500 [==============================] - 8s 166us/sample - loss: 1.0733 - acc: 0.6153 - val_loss: 0.9903 - val_acc: 0.6500\n",
      "Epoch 26/100\n",
      "49500/49500 [==============================] - 8s 165us/sample - loss: 1.0693 - acc: 0.6202 - val_loss: 0.9379 - val_acc: 0.6800\n",
      "Epoch 27/100\n",
      "49500/49500 [==============================] - 8s 164us/sample - loss: 1.0516 - acc: 0.6263 - val_loss: 0.9558 - val_acc: 0.6620\n",
      "Epoch 28/100\n",
      "49500/49500 [==============================] - 8s 161us/sample - loss: 1.0400 - acc: 0.6279 - val_loss: 0.9236 - val_acc: 0.6900\n",
      "Epoch 29/100\n",
      "49500/49500 [==============================] - 8s 163us/sample - loss: 1.0363 - acc: 0.6289 - val_loss: 0.9267 - val_acc: 0.6800\n",
      "Epoch 30/100\n",
      "49500/49500 [==============================] - 8s 166us/sample - loss: 1.0192 - acc: 0.6357 - val_loss: 0.9030 - val_acc: 0.7040\n",
      "Epoch 31/100\n",
      "49500/49500 [==============================] - 8s 167us/sample - loss: 1.0141 - acc: 0.6371 - val_loss: 0.8975 - val_acc: 0.6860\n",
      "Epoch 32/100\n",
      "49500/49500 [==============================] - 8s 165us/sample - loss: 1.0030 - acc: 0.6419 - val_loss: 0.8866 - val_acc: 0.7060\n",
      "Epoch 33/100\n",
      "49500/49500 [==============================] - 8s 164us/sample - loss: 0.9957 - acc: 0.6458 - val_loss: 0.8908 - val_acc: 0.7120\n",
      "Epoch 34/100\n",
      "49500/49500 [==============================] - 8s 167us/sample - loss: 0.9862 - acc: 0.6499 - val_loss: 0.8869 - val_acc: 0.6900\n",
      "Epoch 35/100\n",
      "49500/49500 [==============================] - 9s 174us/sample - loss: 0.9757 - acc: 0.6539 - val_loss: 0.8639 - val_acc: 0.7020\n",
      "Epoch 36/100\n",
      "49500/49500 [==============================] - 8s 168us/sample - loss: 0.9696 - acc: 0.6553 - val_loss: 0.8668 - val_acc: 0.7100\n",
      "Epoch 37/100\n",
      "49500/49500 [==============================] - 8s 168us/sample - loss: 0.9533 - acc: 0.6616 - val_loss: 0.8643 - val_acc: 0.7120\n",
      "Epoch 38/100\n",
      "49500/49500 [==============================] - 8s 164us/sample - loss: 0.9465 - acc: 0.6632 - val_loss: 0.8520 - val_acc: 0.6840\n",
      "Epoch 39/100\n",
      "49500/49500 [==============================] - 8s 169us/sample - loss: 0.9332 - acc: 0.6686 - val_loss: 0.8801 - val_acc: 0.6820\n",
      "Epoch 40/100\n",
      "49500/49500 [==============================] - 8s 171us/sample - loss: 0.9318 - acc: 0.6667 - val_loss: 0.8136 - val_acc: 0.7300\n",
      "Epoch 41/100\n",
      "49500/49500 [==============================] - 8s 168us/sample - loss: 0.9224 - acc: 0.6720 - val_loss: 0.8279 - val_acc: 0.7240\n",
      "Epoch 42/100\n",
      "49500/49500 [==============================] - 8s 167us/sample - loss: 0.9138 - acc: 0.6755 - val_loss: 0.8171 - val_acc: 0.7060\n",
      "Epoch 43/100\n",
      "49500/49500 [==============================] - 9s 174us/sample - loss: 0.9087 - acc: 0.6753 - val_loss: 0.8132 - val_acc: 0.7200\n",
      "Epoch 44/100\n",
      "49500/49500 [==============================] - 9s 176us/sample - loss: 0.9004 - acc: 0.6782 - val_loss: 0.7855 - val_acc: 0.7380\n",
      "Epoch 45/100\n",
      "49500/49500 [==============================] - 8s 169us/sample - loss: 0.8911 - acc: 0.6840 - val_loss: 0.7810 - val_acc: 0.7500\n",
      "Epoch 46/100\n",
      "49500/49500 [==============================] - 8s 164us/sample - loss: 0.8860 - acc: 0.6879 - val_loss: 0.8076 - val_acc: 0.7280\n",
      "Epoch 47/100\n",
      "49500/49500 [==============================] - 8s 166us/sample - loss: 0.8746 - acc: 0.6875 - val_loss: 0.8052 - val_acc: 0.7280\n",
      "Epoch 48/100\n",
      "49500/49500 [==============================] - 8s 166us/sample - loss: 0.8690 - acc: 0.6908 - val_loss: 0.7596 - val_acc: 0.7400\n",
      "Epoch 49/100\n",
      "49500/49500 [==============================] - 8s 163us/sample - loss: 0.8637 - acc: 0.6934 - val_loss: 0.7638 - val_acc: 0.7340\n",
      "Epoch 50/100\n",
      "49500/49500 [==============================] - 8s 166us/sample - loss: 0.8532 - acc: 0.6975 - val_loss: 0.7629 - val_acc: 0.7280\n",
      "Epoch 51/100\n",
      "49500/49500 [==============================] - 8s 167us/sample - loss: 0.8447 - acc: 0.6979 - val_loss: 0.7678 - val_acc: 0.7380\n",
      "Epoch 52/100\n",
      "49500/49500 [==============================] - 8s 162us/sample - loss: 0.8388 - acc: 0.7021 - val_loss: 0.7503 - val_acc: 0.7260\n",
      "Epoch 53/100\n",
      "49500/49500 [==============================] - 8s 161us/sample - loss: 0.8340 - acc: 0.7043 - val_loss: 0.7565 - val_acc: 0.7500\n",
      "Epoch 54/100\n",
      "49500/49500 [==============================] - 8s 163us/sample - loss: 0.8253 - acc: 0.7073 - val_loss: 0.7388 - val_acc: 0.7520\n",
      "Epoch 55/100\n",
      "49500/49500 [==============================] - 9s 175us/sample - loss: 0.8197 - acc: 0.7091 - val_loss: 0.7214 - val_acc: 0.7480\n",
      "Epoch 56/100\n",
      "49500/49500 [==============================] - 9s 174us/sample - loss: 0.8193 - acc: 0.7114 - val_loss: 0.7192 - val_acc: 0.7500\n",
      "Epoch 57/100\n",
      "49500/49500 [==============================] - 8s 170us/sample - loss: 0.8054 - acc: 0.7131 - val_loss: 0.7279 - val_acc: 0.7640\n",
      "Epoch 58/100\n"
     ]
    },
    {
     "name": "stdout",
     "output_type": "stream",
     "text": [
      "49500/49500 [==============================] - 9s 172us/sample - loss: 0.8014 - acc: 0.7147 - val_loss: 0.7409 - val_acc: 0.7580\n",
      "Epoch 59/100\n",
      "49500/49500 [==============================] - 8s 167us/sample - loss: 0.8013 - acc: 0.7158 - val_loss: 0.6959 - val_acc: 0.7640\n",
      "Epoch 60/100\n",
      "49500/49500 [==============================] - 8s 170us/sample - loss: 0.7916 - acc: 0.7208 - val_loss: 0.7263 - val_acc: 0.7520\n",
      "Epoch 61/100\n",
      "49500/49500 [==============================] - 9s 176us/sample - loss: 0.7823 - acc: 0.7240 - val_loss: 0.7037 - val_acc: 0.7740\n",
      "Epoch 62/100\n",
      "49500/49500 [==============================] - 9s 175us/sample - loss: 0.7796 - acc: 0.7236 - val_loss: 0.7140 - val_acc: 0.7320\n",
      "Epoch 63/100\n",
      "49500/49500 [==============================] - 9s 176us/sample - loss: 0.7719 - acc: 0.7278 - val_loss: 0.7060 - val_acc: 0.7540\n",
      "Epoch 64/100\n",
      "49500/49500 [==============================] - 9s 183us/sample - loss: 0.7680 - acc: 0.7254 - val_loss: 0.7098 - val_acc: 0.7560\n",
      "Epoch 65/100\n",
      "49500/49500 [==============================] - 9s 172us/sample - loss: 0.7687 - acc: 0.7264 - val_loss: 0.7083 - val_acc: 0.7640\n",
      "Epoch 66/100\n",
      "49500/49500 [==============================] - 8s 167us/sample - loss: 0.7638 - acc: 0.7285 - val_loss: 0.6921 - val_acc: 0.7540\n",
      "Epoch 67/100\n",
      "49500/49500 [==============================] - 8s 168us/sample - loss: 0.7621 - acc: 0.7299 - val_loss: 0.6918 - val_acc: 0.7480\n",
      "Epoch 68/100\n",
      "49500/49500 [==============================] - 8s 167us/sample - loss: 0.7526 - acc: 0.7331 - val_loss: 0.7073 - val_acc: 0.7540\n",
      "Epoch 69/100\n",
      "49500/49500 [==============================] - 8s 166us/sample - loss: 0.7468 - acc: 0.7355 - val_loss: 0.6677 - val_acc: 0.7780\n",
      "Epoch 70/100\n",
      "49500/49500 [==============================] - 8s 167us/sample - loss: 0.7444 - acc: 0.7359 - val_loss: 0.6846 - val_acc: 0.7620\n",
      "Epoch 71/100\n",
      "49500/49500 [==============================] - 8s 165us/sample - loss: 0.7393 - acc: 0.7398 - val_loss: 0.6805 - val_acc: 0.7600\n",
      "Epoch 72/100\n",
      "49500/49500 [==============================] - 8s 167us/sample - loss: 0.7365 - acc: 0.7369 - val_loss: 0.6523 - val_acc: 0.7720\n",
      "Epoch 73/100\n",
      "49500/49500 [==============================] - 8s 167us/sample - loss: 0.7298 - acc: 0.7427 - val_loss: 0.6527 - val_acc: 0.7720\n",
      "Epoch 74/100\n",
      "49500/49500 [==============================] - 8s 165us/sample - loss: 0.7238 - acc: 0.7447 - val_loss: 0.6966 - val_acc: 0.7520\n",
      "Epoch 75/100\n",
      "49500/49500 [==============================] - 9s 172us/sample - loss: 0.7197 - acc: 0.7475 - val_loss: 0.6755 - val_acc: 0.7700\n",
      "Epoch 76/100\n",
      "49500/49500 [==============================] - 8s 165us/sample - loss: 0.7133 - acc: 0.7470 - val_loss: 0.6641 - val_acc: 0.7800\n",
      "Epoch 77/100\n",
      "49500/49500 [==============================] - 8s 167us/sample - loss: 0.7142 - acc: 0.7481 - val_loss: 0.6936 - val_acc: 0.7700\n",
      "Epoch 78/100\n",
      "49500/49500 [==============================] - 9s 172us/sample - loss: 0.7125 - acc: 0.7480 - val_loss: 0.6703 - val_acc: 0.7580\n",
      "Epoch 79/100\n",
      "49500/49500 [==============================] - 9s 179us/sample - loss: 0.7022 - acc: 0.7501 - val_loss: 0.6384 - val_acc: 0.7900\n",
      "Epoch 80/100\n",
      "49500/49500 [==============================] - 9s 177us/sample - loss: 0.7003 - acc: 0.7506 - val_loss: 0.6575 - val_acc: 0.7800\n",
      "Epoch 81/100\n",
      "49500/49500 [==============================] - 8s 164us/sample - loss: 0.6933 - acc: 0.7529 - val_loss: 0.6581 - val_acc: 0.7700\n",
      "Epoch 82/100\n",
      "49500/49500 [==============================] - 8s 163us/sample - loss: 0.6916 - acc: 0.7550 - val_loss: 0.6549 - val_acc: 0.7720\n",
      "Epoch 83/100\n",
      "49500/49500 [==============================] - 8s 166us/sample - loss: 0.6925 - acc: 0.7560 - val_loss: 0.6743 - val_acc: 0.7700\n",
      "Epoch 84/100\n",
      "49500/49500 [==============================] - 8s 166us/sample - loss: 0.6858 - acc: 0.7572 - val_loss: 0.6651 - val_acc: 0.7600\n",
      "Epoch 85/100\n",
      "49500/49500 [==============================] - 8s 166us/sample - loss: 0.6832 - acc: 0.7554 - val_loss: 0.6433 - val_acc: 0.7700\n",
      "Epoch 86/100\n",
      "49500/49500 [==============================] - 8s 164us/sample - loss: 0.6770 - acc: 0.7599 - val_loss: 0.6592 - val_acc: 0.7640\n",
      "Epoch 87/100\n",
      "49500/49500 [==============================] - 8s 170us/sample - loss: 0.6812 - acc: 0.7596 - val_loss: 0.6518 - val_acc: 0.7820\n",
      "Epoch 88/100\n",
      "49500/49500 [==============================] - 9s 174us/sample - loss: 0.6737 - acc: 0.7623 - val_loss: 0.6361 - val_acc: 0.7820\n",
      "Epoch 89/100\n",
      "49500/49500 [==============================] - 8s 166us/sample - loss: 0.6705 - acc: 0.7627 - val_loss: 0.6327 - val_acc: 0.7820\n",
      "Epoch 90/100\n",
      "49500/49500 [==============================] - 8s 172us/sample - loss: 0.6651 - acc: 0.7617 - val_loss: 0.6419 - val_acc: 0.7760\n",
      "Epoch 91/100\n",
      "49500/49500 [==============================] - 8s 170us/sample - loss: 0.6625 - acc: 0.7645 - val_loss: 0.6640 - val_acc: 0.7720\n",
      "Epoch 92/100\n",
      "49500/49500 [==============================] - 8s 170us/sample - loss: 0.6616 - acc: 0.7653 - val_loss: 0.6333 - val_acc: 0.7700\n",
      "Epoch 93/100\n",
      "49500/49500 [==============================] - 8s 169us/sample - loss: 0.6540 - acc: 0.7673 - val_loss: 0.6241 - val_acc: 0.7840\n",
      "Epoch 94/100\n",
      "49500/49500 [==============================] - 9s 176us/sample - loss: 0.6534 - acc: 0.7675 - val_loss: 0.6451 - val_acc: 0.7760\n",
      "Epoch 95/100\n",
      "49500/49500 [==============================] - 8s 168us/sample - loss: 0.6472 - acc: 0.7689 - val_loss: 0.6380 - val_acc: 0.7800\n",
      "Epoch 96/100\n",
      "49500/49500 [==============================] - 8s 169us/sample - loss: 0.6464 - acc: 0.7711 - val_loss: 0.6085 - val_acc: 0.7860\n",
      "Epoch 97/100\n",
      "49500/49500 [==============================] - 9s 177us/sample - loss: 0.6399 - acc: 0.7727 - val_loss: 0.6189 - val_acc: 0.7940\n",
      "Epoch 98/100\n",
      "49500/49500 [==============================] - 8s 169us/sample - loss: 0.6381 - acc: 0.7711 - val_loss: 0.6067 - val_acc: 0.7800\n",
      "Epoch 99/100\n",
      "49500/49500 [==============================] - 9s 173us/sample - loss: 0.6415 - acc: 0.7749 - val_loss: 0.6373 - val_acc: 0.7820\n",
      "Epoch 100/100\n",
      "49500/49500 [==============================] - 9s 172us/sample - loss: 0.6305 - acc: 0.7758 - val_loss: 0.6070 - val_acc: 0.8020\n"
     ]
    }
   ],
   "source": [
    "history = model.fit(x_train, y_train, epochs=100, validation_split=0.01)"
   ]
  },
  {
   "cell_type": "code",
   "execution_count": 7,
   "metadata": {
    "colab": {
     "base_uri": "https://localhost:8080/",
     "height": 54
    },
    "colab_type": "code",
    "executionInfo": {
     "elapsed": 1252954,
     "status": "ok",
     "timestamp": 1565517280794,
     "user": {
      "displayName": "Simrandeep Singh",
      "photoUrl": "",
      "userId": "05151590984246864371"
     },
     "user_tz": -720
    },
    "id": "u-XrZoxiVRX5",
    "outputId": "83f40294-d301-4b3f-bd68-ddf90e3b4c7f"
   },
   "outputs": [
    {
     "name": "stdout",
     "output_type": "stream",
     "text": [
      "val loss: 0.6067265336513519 | train loss: 0.6304516701553807\n",
      "val accuracy: 0.802 | train acc: 0.77581817\n"
     ]
    }
   ],
   "source": [
    "val_loss = history.history['val_loss']\n",
    "train_loss = history.history['loss']\n",
    "\n",
    "val_acc = history.history['val_acc']\n",
    "acc = history.history['acc']\n",
    "\n",
    "print('val loss:', min(val_loss), '| train loss:', min(train_loss))\n",
    "print('val accuracy:', max(val_acc), '| train acc:', max(acc))"
   ]
  },
  {
   "cell_type": "code",
   "execution_count": 9,
   "metadata": {
    "colab": {},
    "colab_type": "code",
    "id": "BRuEOZ6lFjA0"
   },
   "outputs": [],
   "source": [
    "predict_hist = model.predict(x_test)"
   ]
  },
  {
   "cell_type": "code",
   "execution_count": 8,
   "metadata": {
    "colab": {
     "base_uri": "https://localhost:8080/",
     "height": 54
    },
    "colab_type": "code",
    "executionInfo": {
     "elapsed": 1253810,
     "status": "ok",
     "timestamp": 1565517283199,
     "user": {
      "displayName": "Simrandeep Singh",
      "photoUrl": "",
      "userId": "05151590984246864371"
     },
     "user_tz": -720
    },
    "id": "pEq7YFvVXmgF",
    "outputId": "1541b45f-a377-49ea-e7f8-80c988fb38a4"
   },
   "outputs": [
    {
     "name": "stdout",
     "output_type": "stream",
     "text": [
      "10000/10000 [==============================] - 1s 82us/sample - loss: 0.6845 - acc: 0.7601\n"
     ]
    },
    {
     "data": {
      "text/plain": [
       "[0.6844552019119262, 0.7601]"
      ]
     },
     "execution_count": 8,
     "metadata": {},
     "output_type": "execute_result"
    }
   ],
   "source": [
    "test_hist = model.evaluate(x_test, y_test)\n",
    "test_hist"
   ]
  },
  {
   "cell_type": "code",
   "execution_count": 10,
   "metadata": {
    "colab": {
     "base_uri": "https://localhost:8080/",
     "height": 788
    },
    "colab_type": "code",
    "executionInfo": {
     "elapsed": 1252308,
     "status": "ok",
     "timestamp": 1565517283199,
     "user": {
      "displayName": "Simrandeep Singh",
      "photoUrl": "",
      "userId": "05151590984246864371"
     },
     "user_tz": -720
    },
    "id": "YCLsJ1LCXmgK",
    "outputId": "0c0b9a53-3cae-489a-8409-d8bf52083634",
    "scrolled": true
   },
   "outputs": [
    {
     "name": "stdout",
     "output_type": "stream",
     "text": [
      "Model: \"sequential\"\n",
      "_________________________________________________________________\n",
      "Layer (type)                 Output Shape              Param #   \n",
      "=================================================================\n",
      "conv2d (Conv2D)              (None, 15, 15, 128)       6272      \n",
      "_________________________________________________________________\n",
      "leaky_re_lu (LeakyReLU)      (None, 15, 15, 128)       0         \n",
      "_________________________________________________________________\n",
      "dropout (Dropout)            (None, 15, 15, 128)       0         \n",
      "_________________________________________________________________\n",
      "conv2d_1 (Conv2D)            (None, 7, 7, 64)          73792     \n",
      "_________________________________________________________________\n",
      "leaky_re_lu_1 (LeakyReLU)    (None, 7, 7, 64)          0         \n",
      "_________________________________________________________________\n",
      "dropout_1 (Dropout)          (None, 7, 7, 64)          0         \n",
      "_________________________________________________________________\n",
      "conv2d_2 (Conv2D)            (None, 5, 5, 32)          18464     \n",
      "_________________________________________________________________\n",
      "leaky_re_lu_2 (LeakyReLU)    (None, 5, 5, 32)          0         \n",
      "_________________________________________________________________\n",
      "dropout_2 (Dropout)          (None, 5, 5, 32)          0         \n",
      "_________________________________________________________________\n",
      "flatten (Flatten)            (None, 800)               0         \n",
      "_________________________________________________________________\n",
      "dense (Dense)                (None, 800)               640800    \n",
      "_________________________________________________________________\n",
      "leaky_re_lu_3 (LeakyReLU)    (None, 800)               0         \n",
      "_________________________________________________________________\n",
      "dropout_3 (Dropout)          (None, 800)               0         \n",
      "_________________________________________________________________\n",
      "dense_1 (Dense)              (None, 400)               320400    \n",
      "_________________________________________________________________\n",
      "leaky_re_lu_4 (LeakyReLU)    (None, 400)               0         \n",
      "_________________________________________________________________\n",
      "dropout_4 (Dropout)          (None, 400)               0         \n",
      "_________________________________________________________________\n",
      "dense_2 (Dense)              (None, 10)                4010      \n",
      "=================================================================\n",
      "Total params: 1,063,738\n",
      "Trainable params: 1,063,738\n",
      "Non-trainable params: 0\n",
      "_________________________________________________________________\n"
     ]
    }
   ],
   "source": [
    "model.summary()"
   ]
  },
  {
   "cell_type": "markdown",
   "metadata": {
    "colab_type": "text",
    "id": "VHQVfQVAx4g9"
   },
   "source": [
    "# Implementing random search"
   ]
  },
  {
   "cell_type": "markdown",
   "metadata": {
    "colab_type": "text",
    "id": "oHpBu2ds3oT9"
   },
   "source": [
    "Hyper parameter tuning is a lengthy and tedious process of guessing what param values are best to use with your model. A search algorithm automates this task and finds combinations that give the best results (within limits). \n",
    "\n",
    "I chose to implement Random search as that 'randomly' selects params to use and could stumble upon the perfect param combinations as compared to other search methods i.e. grid, genetic etc. Random Search is also memory efficient as compared to grid search. \n",
    "\n",
    "With Random Search the highest accuracy I recieve was 73.4% as compared to our 78.6%. But it was good to see this in action and how it saved time as i could let it run for 200 iteration over night. "
   ]
  },
  {
   "cell_type": "code",
   "execution_count": 0,
   "metadata": {
    "colab": {},
    "colab_type": "code",
    "id": "tl0eI2tBpKl3"
   },
   "outputs": [],
   "source": [
    "def create_model(l1_filter=128, l2_filter=64, l3_filter=32, dense1=800,dense2=400, dense3 =200, act_fun='ELU', \n",
    "                lr=0.001, drop1=0.1, drop2=0.2, drop3=0.3, drop4=0.4, drop5=0.5, drop6=0.4):\n",
    "  \n",
    "  alpha = 0.33\n",
    "\n",
    "  search_model = Sequential()\n",
    "\n",
    "  # try make filters m x n now instead of a single number\n",
    "\n",
    "  search_model.add(Conv2D(l1_filter, (5, 5), 2, input_shape=(32, 32, 3)))\n",
    "\n",
    "  if act_fun == 'ELU' or act_fun == 'LeakyReLU':\n",
    "      search_model.add(act_fun(alpha=alpha))\n",
    "  else:\n",
    "      search_model.add(act_fun())\n",
    "\n",
    "  search_model.add(Dropout(drop1))\n",
    "\n",
    "  search_model.add(Conv2D(l2_filter, (3, 3), 2))\n",
    "\n",
    "  if act_fun == 'ELU' or act_fun == 'LeakyReLU':\n",
    "      search_model.add(act_fun(alpha=alpha))\n",
    "  else:\n",
    "      search_model.add(act_fun())\n",
    "\n",
    "  search_model.add(Dropout(drop2))\n",
    "\n",
    "\n",
    "  search_model.add(Conv2D(l3_filter, (3, 3), 1))\n",
    "  \n",
    "  if act_fun == 'ELU' or act_fun == 'LeakyReLU':\n",
    "      search_model.add(act_fun(alpha=alpha))\n",
    "  else:\n",
    "      search_model.add(act_fun())\n",
    "\n",
    "  search_model.add(Dropout(drop3))\n",
    "\n",
    "\n",
    "  search_model.add(Flatten())\n",
    "\n",
    "  search_model.add(Dense(dense1))\n",
    "  \n",
    "  if act_fun == 'ELU' or act_fun == 'LeakyReLU':\n",
    "      search_model.add(act_fun(alpha=alpha))\n",
    "  else:\n",
    "      search_model.add(act_fun())\n",
    "\n",
    "  search_model.add(Dropout(drop4))\n",
    "\n",
    "  search_model.add(Dense(dense2))\n",
    "  \n",
    "  if act_fun == 'ELU' or act_fun == 'LeakyReLU':\n",
    "      search_model.add(act_fun(alpha=alpha))\n",
    "  else:\n",
    "      search_model.add(act_fun())\n",
    "\n",
    "  search_model.add(Dropout(drop5))\n",
    "\n",
    "  search_model.add(Dense(dense3))\n",
    "  \n",
    "  if act_fun == 'ELU' or act_fun == 'LeakyReLU':\n",
    "      search_model.add(act_fun(alpha=alpha))\n",
    "  else:\n",
    "      search_model.add(act_fun())\n",
    "      \n",
    "  search_model.add(Dropout(drop6))\n",
    "\n",
    "  search_model.add(Dense(10, activation='softmax'))\n",
    "\n",
    "  adam = optimizers.Adam(lr = lr)\n",
    "\n",
    "  search_model.compile(adam, loss='sparse_categorical_crossentropy', metrics=['accuracy'])\n",
    "  \n",
    "  return search_model"
   ]
  },
  {
   "cell_type": "code",
   "execution_count": 0,
   "metadata": {
    "colab": {},
    "colab_type": "code",
    "id": "3_yCY2uMYVOH"
   },
   "outputs": [],
   "source": [
    "# Parms to pass into search\n",
    "\n",
    "l1_filter = [32, 64, 128, 256]\n",
    "l2_filter = [32, 64, 128, 256]\n",
    "l3_filter = [32, 64, 128, 256]\n",
    "\n",
    "dense1 = [600, 200, 400, 800, 100]\n",
    "dense2 = [600, 200, 400, 800, 100]\n",
    "dense3 = [600, 200, 400, 800, 100]\n",
    "\n",
    "\n",
    "act_fun = [ELU, ReLU, LeakyReLU]\n",
    "\n",
    "lr = [0.001, 0.002, 0.0005, 0.0001, 0.00001, 0.00005, 0.0002, 0.00002]\n",
    "\n",
    "drop1 = [0.2, 0.3, 0.4, 0.5, 0.6]\n",
    "drop2 = [0.2, 0.3, 0.4, 0.5, 0.6]\n",
    "drop3 = [0.2, 0.3, 0.4, 0.5, 0.6]\n",
    "drop4 = [0.2, 0.3, 0.4, 0.5, 0.6]\n",
    "drop5 = [0.2, 0.3, 0.4, 0.5, 0.6]\n",
    "drop6 = [0.2, 0.3, 0.4, 0.5, 0.6]\n",
    "\n",
    "param_grid = dict(l1_filter=l1_filter, l2_filter=l2_filter, l3_filter=l3_filter,\n",
    "                  dense1=dense1,dense2=dense2, dense3 =dense3,\n",
    "                  act_fun=act_fun, \n",
    "                  lr=lr, \n",
    "                  drop1=drop1, drop2=drop2, drop3=drop3, drop4=drop4, drop5=drop5, drop6=drop6)"
   ]
  },
  {
   "cell_type": "code",
   "execution_count": 0,
   "metadata": {
    "colab": {},
    "colab_type": "code",
    "id": "BZUrs9pOx3fe"
   },
   "outputs": [],
   "source": [
    "model = KerasClassifier(build_fn=create_model, epochs=40, validation_split = 0.05)"
   ]
  },
  {
   "cell_type": "code",
   "execution_count": 0,
   "metadata": {
    "colab": {},
    "colab_type": "code",
    "id": "U4ofToD0UHXW"
   },
   "outputs": [],
   "source": [
    "rs_model = RandomizedSearchCV(estimator=model, cv=3, param_distributions=param_grid, \n",
    "                          verbose = 20, n_iter=40, n_jobs=-1)\n"
   ]
  },
  {
   "cell_type": "code",
   "execution_count": 0,
   "metadata": {
    "colab": {
     "base_uri": "https://localhost:8080/",
     "height": 54
    },
    "colab_type": "code",
    "executionInfo": {
     "elapsed": 19619305,
     "status": "ok",
     "timestamp": 1564736496438,
     "user": {
      "displayName": "Simrandeep Singh",
      "photoUrl": "",
      "userId": "05151590984246864371"
     },
     "user_tz": -720
    },
    "id": "IHftCQDqUHgk",
    "outputId": "94ce87d3-4233-4aea-f88b-bf0e34b536db"
   },
   "outputs": [
    {
     "name": "stdout",
     "output_type": "stream",
     "text": [
      "Fitting 3 folds for each of 40 candidates, totalling 120 fits\n"
     ]
    },
    {
     "name": "stderr",
     "output_type": "stream",
     "text": [
      "[Parallel(n_jobs=-1)]: Using backend LokyBackend with 4 concurrent workers.\n"
     ]
    }
   ],
   "source": [
    "search_history = rs_model.fit(x_train, y_train)"
   ]
  },
  {
   "cell_type": "code",
   "execution_count": 0,
   "metadata": {
    "colab": {
     "base_uri": "https://localhost:8080/",
     "height": 1000
    },
    "colab_type": "code",
    "executionInfo": {
     "elapsed": 27670639,
     "status": "ok",
     "timestamp": 1564838934783,
     "user": {
      "displayName": "Simrandeep Singh",
      "photoUrl": "",
      "userId": "05151590984246864371"
     },
     "user_tz": -720
    },
    "id": "T6A0h9MYz4YL",
    "outputId": "96bc1ef4-ea7c-4a12-d61f-9c0a1cd8388c"
   },
   "outputs": [
    {
     "data": {
      "text/html": [
       "<div>\n",
       "<style scoped>\n",
       "    .dataframe tbody tr th:only-of-type {\n",
       "        vertical-align: middle;\n",
       "    }\n",
       "\n",
       "    .dataframe tbody tr th {\n",
       "        vertical-align: top;\n",
       "    }\n",
       "\n",
       "    .dataframe thead th {\n",
       "        text-align: right;\n",
       "    }\n",
       "</style>\n",
       "<table border=\"1\" class=\"dataframe\">\n",
       "  <thead>\n",
       "    <tr style=\"text-align: right;\">\n",
       "      <th></th>\n",
       "      <th>mean_fit_time</th>\n",
       "      <th>std_fit_time</th>\n",
       "      <th>mean_score_time</th>\n",
       "      <th>std_score_time</th>\n",
       "      <th>param_lr</th>\n",
       "      <th>param_l3_filter</th>\n",
       "      <th>param_l2_filter</th>\n",
       "      <th>param_l1_filter</th>\n",
       "      <th>param_drop6</th>\n",
       "      <th>param_drop5</th>\n",
       "      <th>param_drop4</th>\n",
       "      <th>param_drop3</th>\n",
       "      <th>param_drop2</th>\n",
       "      <th>param_drop1</th>\n",
       "      <th>param_dense3</th>\n",
       "      <th>param_dense2</th>\n",
       "      <th>param_dense1</th>\n",
       "      <th>param_act_fun</th>\n",
       "      <th>params</th>\n",
       "      <th>split0_test_score</th>\n",
       "      <th>split1_test_score</th>\n",
       "      <th>split2_test_score</th>\n",
       "      <th>mean_test_score</th>\n",
       "      <th>std_test_score</th>\n",
       "      <th>rank_test_score</th>\n",
       "    </tr>\n",
       "  </thead>\n",
       "  <tbody>\n",
       "    <tr>\n",
       "      <th>0</th>\n",
       "      <td>1288.516952</td>\n",
       "      <td>3.193016</td>\n",
       "      <td>6.414476</td>\n",
       "      <td>0.472701</td>\n",
       "      <td>5e-05</td>\n",
       "      <td>64</td>\n",
       "      <td>64</td>\n",
       "      <td>256</td>\n",
       "      <td>0.6</td>\n",
       "      <td>0.4</td>\n",
       "      <td>0.2</td>\n",
       "      <td>0.6</td>\n",
       "      <td>0.3</td>\n",
       "      <td>0.4</td>\n",
       "      <td>800</td>\n",
       "      <td>200</td>\n",
       "      <td>200</td>\n",
       "      <td>&lt;class 'tensorflow.python.keras.layers.advance...</td>\n",
       "      <td>{'lr': 5e-05, 'l3_filter': 64, 'l2_filter': 64...</td>\n",
       "      <td>0.550789</td>\n",
       "      <td>0.570049</td>\n",
       "      <td>0.560302</td>\n",
       "      <td>0.56038</td>\n",
       "      <td>0.007863</td>\n",
       "      <td>21</td>\n",
       "    </tr>\n",
       "    <tr>\n",
       "      <th>1</th>\n",
       "      <td>1207.651551</td>\n",
       "      <td>2.827146</td>\n",
       "      <td>6.517249</td>\n",
       "      <td>0.534123</td>\n",
       "      <td>1e-05</td>\n",
       "      <td>32</td>\n",
       "      <td>64</td>\n",
       "      <td>128</td>\n",
       "      <td>0.6</td>\n",
       "      <td>0.2</td>\n",
       "      <td>0.6</td>\n",
       "      <td>0.2</td>\n",
       "      <td>0.3</td>\n",
       "      <td>0.5</td>\n",
       "      <td>400</td>\n",
       "      <td>100</td>\n",
       "      <td>200</td>\n",
       "      <td>&lt;class 'tensorflow.python.keras.layers.advance...</td>\n",
       "      <td>{'lr': 1e-05, 'l3_filter': 32, 'l2_filter': 64...</td>\n",
       "      <td>0.398332</td>\n",
       "      <td>0.397792</td>\n",
       "      <td>0.390196</td>\n",
       "      <td>0.39544</td>\n",
       "      <td>0.003715</td>\n",
       "      <td>39</td>\n",
       "    </tr>\n",
       "    <tr>\n",
       "      <th>2</th>\n",
       "      <td>1367.376710</td>\n",
       "      <td>2.692758</td>\n",
       "      <td>7.271221</td>\n",
       "      <td>0.207626</td>\n",
       "      <td>5e-05</td>\n",
       "      <td>128</td>\n",
       "      <td>128</td>\n",
       "      <td>32</td>\n",
       "      <td>0.4</td>\n",
       "      <td>0.6</td>\n",
       "      <td>0.3</td>\n",
       "      <td>0.4</td>\n",
       "      <td>0.5</td>\n",
       "      <td>0.3</td>\n",
       "      <td>600</td>\n",
       "      <td>600</td>\n",
       "      <td>100</td>\n",
       "      <td>&lt;class 'tensorflow.python.keras.layers.advance...</td>\n",
       "      <td>{'lr': 5e-05, 'l3_filter': 128, 'l2_filter': 1...</td>\n",
       "      <td>0.583488</td>\n",
       "      <td>0.597828</td>\n",
       "      <td>0.554842</td>\n",
       "      <td>0.57872</td>\n",
       "      <td>0.017870</td>\n",
       "      <td>19</td>\n",
       "    </tr>\n",
       "    <tr>\n",
       "      <th>3</th>\n",
       "      <td>1746.758402</td>\n",
       "      <td>7.438172</td>\n",
       "      <td>7.471539</td>\n",
       "      <td>0.510490</td>\n",
       "      <td>5e-05</td>\n",
       "      <td>256</td>\n",
       "      <td>256</td>\n",
       "      <td>128</td>\n",
       "      <td>0.4</td>\n",
       "      <td>0.5</td>\n",
       "      <td>0.5</td>\n",
       "      <td>0.5</td>\n",
       "      <td>0.3</td>\n",
       "      <td>0.5</td>\n",
       "      <td>800</td>\n",
       "      <td>600</td>\n",
       "      <td>400</td>\n",
       "      <td>&lt;class 'tensorflow.python.keras.layers.advance...</td>\n",
       "      <td>{'lr': 5e-05, 'l3_filter': 256, 'l2_filter': 2...</td>\n",
       "      <td>0.683866</td>\n",
       "      <td>0.672947</td>\n",
       "      <td>0.674367</td>\n",
       "      <td>0.67706</td>\n",
       "      <td>0.004848</td>\n",
       "      <td>2</td>\n",
       "    </tr>\n",
       "    <tr>\n",
       "      <th>4</th>\n",
       "      <td>1358.213804</td>\n",
       "      <td>1.760579</td>\n",
       "      <td>7.063640</td>\n",
       "      <td>0.113886</td>\n",
       "      <td>2e-05</td>\n",
       "      <td>128</td>\n",
       "      <td>64</td>\n",
       "      <td>32</td>\n",
       "      <td>0.2</td>\n",
       "      <td>0.2</td>\n",
       "      <td>0.2</td>\n",
       "      <td>0.3</td>\n",
       "      <td>0.5</td>\n",
       "      <td>0.3</td>\n",
       "      <td>600</td>\n",
       "      <td>800</td>\n",
       "      <td>800</td>\n",
       "      <td>&lt;class 'tensorflow.python.keras.layers.advance...</td>\n",
       "      <td>{'lr': 2e-05, 'l3_filter': 128, 'l2_filter': 6...</td>\n",
       "      <td>0.481850</td>\n",
       "      <td>0.482390</td>\n",
       "      <td>0.469099</td>\n",
       "      <td>0.47778</td>\n",
       "      <td>0.006142</td>\n",
       "      <td>27</td>\n",
       "    </tr>\n",
       "    <tr>\n",
       "      <th>5</th>\n",
       "      <td>1725.628562</td>\n",
       "      <td>3.974737</td>\n",
       "      <td>8.406197</td>\n",
       "      <td>0.168323</td>\n",
       "      <td>0.0001</td>\n",
       "      <td>32</td>\n",
       "      <td>256</td>\n",
       "      <td>256</td>\n",
       "      <td>0.5</td>\n",
       "      <td>0.5</td>\n",
       "      <td>0.6</td>\n",
       "      <td>0.5</td>\n",
       "      <td>0.5</td>\n",
       "      <td>0.6</td>\n",
       "      <td>800</td>\n",
       "      <td>600</td>\n",
       "      <td>800</td>\n",
       "      <td>&lt;class 'tensorflow.python.keras.layers.advance...</td>\n",
       "      <td>{'lr': 0.0001, 'l3_filter': 32, 'l2_filter': 2...</td>\n",
       "      <td>0.639287</td>\n",
       "      <td>0.622188</td>\n",
       "      <td>0.633865</td>\n",
       "      <td>0.63178</td>\n",
       "      <td>0.007135</td>\n",
       "      <td>11</td>\n",
       "    </tr>\n",
       "    <tr>\n",
       "      <th>6</th>\n",
       "      <td>1406.085901</td>\n",
       "      <td>2.551526</td>\n",
       "      <td>8.185762</td>\n",
       "      <td>0.140641</td>\n",
       "      <td>0.0002</td>\n",
       "      <td>128</td>\n",
       "      <td>128</td>\n",
       "      <td>32</td>\n",
       "      <td>0.4</td>\n",
       "      <td>0.4</td>\n",
       "      <td>0.6</td>\n",
       "      <td>0.6</td>\n",
       "      <td>0.5</td>\n",
       "      <td>0.3</td>\n",
       "      <td>100</td>\n",
       "      <td>800</td>\n",
       "      <td>400</td>\n",
       "      <td>&lt;class 'tensorflow.python.keras.layers.advance...</td>\n",
       "      <td>{'lr': 0.0002, 'l3_filter': 128, 'l2_filter': ...</td>\n",
       "      <td>0.627287</td>\n",
       "      <td>0.617088</td>\n",
       "      <td>0.622885</td>\n",
       "      <td>0.62242</td>\n",
       "      <td>0.004177</td>\n",
       "      <td>14</td>\n",
       "    </tr>\n",
       "    <tr>\n",
       "      <th>7</th>\n",
       "      <td>1873.962602</td>\n",
       "      <td>9.309043</td>\n",
       "      <td>8.655370</td>\n",
       "      <td>0.553688</td>\n",
       "      <td>5e-05</td>\n",
       "      <td>256</td>\n",
       "      <td>256</td>\n",
       "      <td>128</td>\n",
       "      <td>0.4</td>\n",
       "      <td>0.4</td>\n",
       "      <td>0.2</td>\n",
       "      <td>0.3</td>\n",
       "      <td>0.3</td>\n",
       "      <td>0.3</td>\n",
       "      <td>600</td>\n",
       "      <td>800</td>\n",
       "      <td>200</td>\n",
       "      <td>&lt;class 'tensorflow.python.keras.layers.advance...</td>\n",
       "      <td>{'lr': 5e-05, 'l3_filter': 256, 'l2_filter': 2...</td>\n",
       "      <td>0.647327</td>\n",
       "      <td>0.669947</td>\n",
       "      <td>0.668367</td>\n",
       "      <td>0.66188</td>\n",
       "      <td>0.010311</td>\n",
       "      <td>6</td>\n",
       "    </tr>\n",
       "    <tr>\n",
       "      <th>8</th>\n",
       "      <td>1467.238386</td>\n",
       "      <td>0.904160</td>\n",
       "      <td>5.467071</td>\n",
       "      <td>1.121933</td>\n",
       "      <td>5e-05</td>\n",
       "      <td>256</td>\n",
       "      <td>32</td>\n",
       "      <td>128</td>\n",
       "      <td>0.6</td>\n",
       "      <td>0.6</td>\n",
       "      <td>0.3</td>\n",
       "      <td>0.6</td>\n",
       "      <td>0.4</td>\n",
       "      <td>0.3</td>\n",
       "      <td>100</td>\n",
       "      <td>100</td>\n",
       "      <td>600</td>\n",
       "      <td>&lt;class 'tensorflow.python.keras.layers.advance...</td>\n",
       "      <td>{'lr': 5e-05, 'l3_filter': 256, 'l2_filter': 3...</td>\n",
       "      <td>0.554929</td>\n",
       "      <td>0.557509</td>\n",
       "      <td>0.553042</td>\n",
       "      <td>0.55516</td>\n",
       "      <td>0.001831</td>\n",
       "      <td>22</td>\n",
       "    </tr>\n",
       "    <tr>\n",
       "      <th>9</th>\n",
       "      <td>1026.018989</td>\n",
       "      <td>9.135847</td>\n",
       "      <td>5.686655</td>\n",
       "      <td>0.118231</td>\n",
       "      <td>1e-05</td>\n",
       "      <td>32</td>\n",
       "      <td>64</td>\n",
       "      <td>32</td>\n",
       "      <td>0.5</td>\n",
       "      <td>0.4</td>\n",
       "      <td>0.4</td>\n",
       "      <td>0.6</td>\n",
       "      <td>0.4</td>\n",
       "      <td>0.2</td>\n",
       "      <td>400</td>\n",
       "      <td>600</td>\n",
       "      <td>800</td>\n",
       "      <td>&lt;class 'tensorflow.python.keras.layers.advance...</td>\n",
       "      <td>{'lr': 1e-05, 'l3_filter': 32, 'l2_filter': 64...</td>\n",
       "      <td>0.381952</td>\n",
       "      <td>0.382132</td>\n",
       "      <td>0.375075</td>\n",
       "      <td>0.37972</td>\n",
       "      <td>0.003285</td>\n",
       "      <td>40</td>\n",
       "    </tr>\n",
       "    <tr>\n",
       "      <th>10</th>\n",
       "      <td>1076.073391</td>\n",
       "      <td>18.478634</td>\n",
       "      <td>5.794130</td>\n",
       "      <td>0.314681</td>\n",
       "      <td>0.0005</td>\n",
       "      <td>128</td>\n",
       "      <td>64</td>\n",
       "      <td>128</td>\n",
       "      <td>0.6</td>\n",
       "      <td>0.4</td>\n",
       "      <td>0.5</td>\n",
       "      <td>0.4</td>\n",
       "      <td>0.6</td>\n",
       "      <td>0.4</td>\n",
       "      <td>600</td>\n",
       "      <td>600</td>\n",
       "      <td>100</td>\n",
       "      <td>&lt;class 'tensorflow.python.keras.layers.advance...</td>\n",
       "      <td>{'lr': 0.0005, 'l3_filter': 128, 'l2_filter': ...</td>\n",
       "      <td>0.595668</td>\n",
       "      <td>0.580368</td>\n",
       "      <td>0.600924</td>\n",
       "      <td>0.59232</td>\n",
       "      <td>0.008719</td>\n",
       "      <td>17</td>\n",
       "    </tr>\n",
       "    <tr>\n",
       "      <th>11</th>\n",
       "      <td>1029.288716</td>\n",
       "      <td>4.291052</td>\n",
       "      <td>5.751698</td>\n",
       "      <td>0.135503</td>\n",
       "      <td>0.0005</td>\n",
       "      <td>64</td>\n",
       "      <td>64</td>\n",
       "      <td>64</td>\n",
       "      <td>0.6</td>\n",
       "      <td>0.3</td>\n",
       "      <td>0.3</td>\n",
       "      <td>0.4</td>\n",
       "      <td>0.5</td>\n",
       "      <td>0.2</td>\n",
       "      <td>100</td>\n",
       "      <td>400</td>\n",
       "      <td>200</td>\n",
       "      <td>&lt;class 'tensorflow.python.keras.layers.advance...</td>\n",
       "      <td>{'lr': 0.0005, 'l3_filter': 64, 'l2_filter': 6...</td>\n",
       "      <td>0.622848</td>\n",
       "      <td>0.642287</td>\n",
       "      <td>0.642446</td>\n",
       "      <td>0.63586</td>\n",
       "      <td>0.009202</td>\n",
       "      <td>10</td>\n",
       "    </tr>\n",
       "    <tr>\n",
       "      <th>12</th>\n",
       "      <td>1073.376997</td>\n",
       "      <td>2.651782</td>\n",
       "      <td>5.842330</td>\n",
       "      <td>0.378539</td>\n",
       "      <td>2e-05</td>\n",
       "      <td>256</td>\n",
       "      <td>64</td>\n",
       "      <td>32</td>\n",
       "      <td>0.6</td>\n",
       "      <td>0.6</td>\n",
       "      <td>0.2</td>\n",
       "      <td>0.6</td>\n",
       "      <td>0.5</td>\n",
       "      <td>0.5</td>\n",
       "      <td>200</td>\n",
       "      <td>600</td>\n",
       "      <td>600</td>\n",
       "      <td>&lt;class 'tensorflow.python.keras.layers.advance...</td>\n",
       "      <td>{'lr': 2e-05, 'l3_filter': 256, 'l2_filter': 6...</td>\n",
       "      <td>0.462651</td>\n",
       "      <td>0.464091</td>\n",
       "      <td>0.464899</td>\n",
       "      <td>0.46388</td>\n",
       "      <td>0.000930</td>\n",
       "      <td>32</td>\n",
       "    </tr>\n",
       "    <tr>\n",
       "      <th>13</th>\n",
       "      <td>1071.902192</td>\n",
       "      <td>3.837530</td>\n",
       "      <td>5.875795</td>\n",
       "      <td>0.219480</td>\n",
       "      <td>5e-05</td>\n",
       "      <td>128</td>\n",
       "      <td>64</td>\n",
       "      <td>32</td>\n",
       "      <td>0.4</td>\n",
       "      <td>0.4</td>\n",
       "      <td>0.2</td>\n",
       "      <td>0.4</td>\n",
       "      <td>0.3</td>\n",
       "      <td>0.2</td>\n",
       "      <td>100</td>\n",
       "      <td>400</td>\n",
       "      <td>600</td>\n",
       "      <td>&lt;class 'tensorflow.python.keras.layers.advance...</td>\n",
       "      <td>{'lr': 5e-05, 'l3_filter': 128, 'l2_filter': 6...</td>\n",
       "      <td>0.475551</td>\n",
       "      <td>0.470271</td>\n",
       "      <td>0.466879</td>\n",
       "      <td>0.47090</td>\n",
       "      <td>0.003568</td>\n",
       "      <td>30</td>\n",
       "    </tr>\n",
       "    <tr>\n",
       "      <th>14</th>\n",
       "      <td>1139.614067</td>\n",
       "      <td>1.962741</td>\n",
       "      <td>6.144754</td>\n",
       "      <td>0.514262</td>\n",
       "      <td>0.0005</td>\n",
       "      <td>256</td>\n",
       "      <td>32</td>\n",
       "      <td>64</td>\n",
       "      <td>0.2</td>\n",
       "      <td>0.4</td>\n",
       "      <td>0.4</td>\n",
       "      <td>0.3</td>\n",
       "      <td>0.6</td>\n",
       "      <td>0.4</td>\n",
       "      <td>200</td>\n",
       "      <td>600</td>\n",
       "      <td>600</td>\n",
       "      <td>&lt;class 'tensorflow.python.keras.layers.advance...</td>\n",
       "      <td>{'lr': 0.0005, 'l3_filter': 256, 'l2_filter': ...</td>\n",
       "      <td>0.553189</td>\n",
       "      <td>0.556609</td>\n",
       "      <td>0.538402</td>\n",
       "      <td>0.54940</td>\n",
       "      <td>0.007901</td>\n",
       "      <td>24</td>\n",
       "    </tr>\n",
       "    <tr>\n",
       "      <th>15</th>\n",
       "      <td>1128.293600</td>\n",
       "      <td>6.129852</td>\n",
       "      <td>6.250463</td>\n",
       "      <td>0.161337</td>\n",
       "      <td>0.0001</td>\n",
       "      <td>32</td>\n",
       "      <td>128</td>\n",
       "      <td>32</td>\n",
       "      <td>0.4</td>\n",
       "      <td>0.6</td>\n",
       "      <td>0.5</td>\n",
       "      <td>0.6</td>\n",
       "      <td>0.5</td>\n",
       "      <td>0.3</td>\n",
       "      <td>600</td>\n",
       "      <td>800</td>\n",
       "      <td>800</td>\n",
       "      <td>&lt;class 'tensorflow.python.keras.layers.advance...</td>\n",
       "      <td>{'lr': 0.0001, 'l3_filter': 32, 'l2_filter': 1...</td>\n",
       "      <td>0.469671</td>\n",
       "      <td>0.465351</td>\n",
       "      <td>0.463999</td>\n",
       "      <td>0.46634</td>\n",
       "      <td>0.002419</td>\n",
       "      <td>31</td>\n",
       "    </tr>\n",
       "    <tr>\n",
       "      <th>16</th>\n",
       "      <td>1420.538122</td>\n",
       "      <td>5.348625</td>\n",
       "      <td>6.567816</td>\n",
       "      <td>0.403056</td>\n",
       "      <td>1e-05</td>\n",
       "      <td>128</td>\n",
       "      <td>256</td>\n",
       "      <td>64</td>\n",
       "      <td>0.3</td>\n",
       "      <td>0.3</td>\n",
       "      <td>0.3</td>\n",
       "      <td>0.3</td>\n",
       "      <td>0.4</td>\n",
       "      <td>0.6</td>\n",
       "      <td>200</td>\n",
       "      <td>400</td>\n",
       "      <td>100</td>\n",
       "      <td>&lt;class 'tensorflow.python.keras.layers.advance...</td>\n",
       "      <td>{'lr': 1e-05, 'l3_filter': 128, 'l2_filter': 2...</td>\n",
       "      <td>0.457731</td>\n",
       "      <td>0.461931</td>\n",
       "      <td>0.450978</td>\n",
       "      <td>0.45688</td>\n",
       "      <td>0.004512</td>\n",
       "      <td>33</td>\n",
       "    </tr>\n",
       "    <tr>\n",
       "      <th>17</th>\n",
       "      <td>1191.418346</td>\n",
       "      <td>1.595765</td>\n",
       "      <td>6.100273</td>\n",
       "      <td>0.367809</td>\n",
       "      <td>0.0005</td>\n",
       "      <td>32</td>\n",
       "      <td>128</td>\n",
       "      <td>128</td>\n",
       "      <td>0.5</td>\n",
       "      <td>0.2</td>\n",
       "      <td>0.4</td>\n",
       "      <td>0.3</td>\n",
       "      <td>0.3</td>\n",
       "      <td>0.2</td>\n",
       "      <td>800</td>\n",
       "      <td>100</td>\n",
       "      <td>200</td>\n",
       "      <td>&lt;class 'tensorflow.python.keras.layers.advance...</td>\n",
       "      <td>{'lr': 0.0005, 'l3_filter': 32, 'l2_filter': 1...</td>\n",
       "      <td>0.626327</td>\n",
       "      <td>0.636407</td>\n",
       "      <td>0.612384</td>\n",
       "      <td>0.62504</td>\n",
       "      <td>0.009849</td>\n",
       "      <td>12</td>\n",
       "    </tr>\n",
       "    <tr>\n",
       "      <th>18</th>\n",
       "      <td>1029.186855</td>\n",
       "      <td>18.020763</td>\n",
       "      <td>6.053186</td>\n",
       "      <td>0.655933</td>\n",
       "      <td>0.0002</td>\n",
       "      <td>64</td>\n",
       "      <td>256</td>\n",
       "      <td>32</td>\n",
       "      <td>0.3</td>\n",
       "      <td>0.4</td>\n",
       "      <td>0.4</td>\n",
       "      <td>0.6</td>\n",
       "      <td>0.5</td>\n",
       "      <td>0.2</td>\n",
       "      <td>100</td>\n",
       "      <td>200</td>\n",
       "      <td>400</td>\n",
       "      <td>&lt;class 'tensorflow.python.keras.layers.advance...</td>\n",
       "      <td>{'lr': 0.0002, 'l3_filter': 64, 'l2_filter': 2...</td>\n",
       "      <td>0.528289</td>\n",
       "      <td>0.525589</td>\n",
       "      <td>0.522741</td>\n",
       "      <td>0.52554</td>\n",
       "      <td>0.002265</td>\n",
       "      <td>25</td>\n",
       "    </tr>\n",
       "    <tr>\n",
       "      <th>19</th>\n",
       "      <td>976.048111</td>\n",
       "      <td>2.327246</td>\n",
       "      <td>6.158881</td>\n",
       "      <td>0.090984</td>\n",
       "      <td>2e-05</td>\n",
       "      <td>32</td>\n",
       "      <td>32</td>\n",
       "      <td>128</td>\n",
       "      <td>0.4</td>\n",
       "      <td>0.4</td>\n",
       "      <td>0.3</td>\n",
       "      <td>0.3</td>\n",
       "      <td>0.6</td>\n",
       "      <td>0.6</td>\n",
       "      <td>200</td>\n",
       "      <td>400</td>\n",
       "      <td>400</td>\n",
       "      <td>&lt;class 'tensorflow.python.keras.layers.advance...</td>\n",
       "      <td>{'lr': 2e-05, 'l3_filter': 32, 'l2_filter': 32...</td>\n",
       "      <td>0.398212</td>\n",
       "      <td>0.400072</td>\n",
       "      <td>0.391036</td>\n",
       "      <td>0.39644</td>\n",
       "      <td>0.003896</td>\n",
       "      <td>38</td>\n",
       "    </tr>\n",
       "    <tr>\n",
       "      <th>20</th>\n",
       "      <td>1018.866654</td>\n",
       "      <td>7.322385</td>\n",
       "      <td>6.628181</td>\n",
       "      <td>0.128410</td>\n",
       "      <td>0.0002</td>\n",
       "      <td>64</td>\n",
       "      <td>64</td>\n",
       "      <td>32</td>\n",
       "      <td>0.3</td>\n",
       "      <td>0.2</td>\n",
       "      <td>0.2</td>\n",
       "      <td>0.3</td>\n",
       "      <td>0.2</td>\n",
       "      <td>0.2</td>\n",
       "      <td>600</td>\n",
       "      <td>100</td>\n",
       "      <td>600</td>\n",
       "      <td>&lt;class 'tensorflow.python.keras.layers.advance...</td>\n",
       "      <td>{'lr': 0.0002, 'l3_filter': 64, 'l2_filter': 6...</td>\n",
       "      <td>0.668387</td>\n",
       "      <td>0.665927</td>\n",
       "      <td>0.662606</td>\n",
       "      <td>0.66564</td>\n",
       "      <td>0.002368</td>\n",
       "      <td>5</td>\n",
       "    </tr>\n",
       "    <tr>\n",
       "      <th>21</th>\n",
       "      <td>1370.367011</td>\n",
       "      <td>8.037299</td>\n",
       "      <td>8.341719</td>\n",
       "      <td>0.914627</td>\n",
       "      <td>0.0002</td>\n",
       "      <td>32</td>\n",
       "      <td>32</td>\n",
       "      <td>256</td>\n",
       "      <td>0.6</td>\n",
       "      <td>0.2</td>\n",
       "      <td>0.5</td>\n",
       "      <td>0.2</td>\n",
       "      <td>0.6</td>\n",
       "      <td>0.3</td>\n",
       "      <td>600</td>\n",
       "      <td>100</td>\n",
       "      <td>800</td>\n",
       "      <td>&lt;class 'tensorflow.python.keras.layers.advance...</td>\n",
       "      <td>{'lr': 0.0002, 'l3_filter': 32, 'l2_filter': 3...</td>\n",
       "      <td>0.614448</td>\n",
       "      <td>0.608748</td>\n",
       "      <td>0.593604</td>\n",
       "      <td>0.60560</td>\n",
       "      <td>0.008796</td>\n",
       "      <td>15</td>\n",
       "    </tr>\n",
       "    <tr>\n",
       "      <th>22</th>\n",
       "      <td>1622.219393</td>\n",
       "      <td>31.498281</td>\n",
       "      <td>8.385313</td>\n",
       "      <td>0.331178</td>\n",
       "      <td>0.0005</td>\n",
       "      <td>128</td>\n",
       "      <td>256</td>\n",
       "      <td>64</td>\n",
       "      <td>0.5</td>\n",
       "      <td>0.4</td>\n",
       "      <td>0.4</td>\n",
       "      <td>0.5</td>\n",
       "      <td>0.2</td>\n",
       "      <td>0.6</td>\n",
       "      <td>400</td>\n",
       "      <td>100</td>\n",
       "      <td>200</td>\n",
       "      <td>&lt;class 'tensorflow.python.keras.layers.advance...</td>\n",
       "      <td>{'lr': 0.0005, 'l3_filter': 128, 'l2_filter': ...</td>\n",
       "      <td>0.594768</td>\n",
       "      <td>0.581328</td>\n",
       "      <td>0.594924</td>\n",
       "      <td>0.59034</td>\n",
       "      <td>0.006373</td>\n",
       "      <td>18</td>\n",
       "    </tr>\n",
       "    <tr>\n",
       "      <th>23</th>\n",
       "      <td>1532.572063</td>\n",
       "      <td>3.712781</td>\n",
       "      <td>7.016788</td>\n",
       "      <td>0.266717</td>\n",
       "      <td>2e-05</td>\n",
       "      <td>256</td>\n",
       "      <td>32</td>\n",
       "      <td>256</td>\n",
       "      <td>0.5</td>\n",
       "      <td>0.3</td>\n",
       "      <td>0.5</td>\n",
       "      <td>0.6</td>\n",
       "      <td>0.6</td>\n",
       "      <td>0.5</td>\n",
       "      <td>200</td>\n",
       "      <td>400</td>\n",
       "      <td>800</td>\n",
       "      <td>&lt;class 'tensorflow.python.keras.layers.advance...</td>\n",
       "      <td>{'lr': 2e-05, 'l3_filter': 256, 'l2_filter': 3...</td>\n",
       "      <td>0.496430</td>\n",
       "      <td>0.493550</td>\n",
       "      <td>0.495680</td>\n",
       "      <td>0.49522</td>\n",
       "      <td>0.001220</td>\n",
       "      <td>26</td>\n",
       "    </tr>\n",
       "    <tr>\n",
       "      <th>24</th>\n",
       "      <td>1220.939971</td>\n",
       "      <td>5.385252</td>\n",
       "      <td>7.068875</td>\n",
       "      <td>0.451890</td>\n",
       "      <td>1e-05</td>\n",
       "      <td>256</td>\n",
       "      <td>32</td>\n",
       "      <td>64</td>\n",
       "      <td>0.3</td>\n",
       "      <td>0.2</td>\n",
       "      <td>0.4</td>\n",
       "      <td>0.2</td>\n",
       "      <td>0.2</td>\n",
       "      <td>0.2</td>\n",
       "      <td>600</td>\n",
       "      <td>600</td>\n",
       "      <td>100</td>\n",
       "      <td>&lt;class 'tensorflow.python.keras.layers.advance...</td>\n",
       "      <td>{'lr': 1e-05, 'l3_filter': 256, 'l2_filter': 3...</td>\n",
       "      <td>0.450831</td>\n",
       "      <td>0.468291</td>\n",
       "      <td>0.447258</td>\n",
       "      <td>0.45546</td>\n",
       "      <td>0.009189</td>\n",
       "      <td>34</td>\n",
       "    </tr>\n",
       "    <tr>\n",
       "      <th>25</th>\n",
       "      <td>1419.438336</td>\n",
       "      <td>5.919017</td>\n",
       "      <td>8.143638</td>\n",
       "      <td>0.075923</td>\n",
       "      <td>2e-05</td>\n",
       "      <td>128</td>\n",
       "      <td>32</td>\n",
       "      <td>256</td>\n",
       "      <td>0.3</td>\n",
       "      <td>0.5</td>\n",
       "      <td>0.3</td>\n",
       "      <td>0.4</td>\n",
       "      <td>0.5</td>\n",
       "      <td>0.6</td>\n",
       "      <td>600</td>\n",
       "      <td>200</td>\n",
       "      <td>100</td>\n",
       "      <td>&lt;class 'tensorflow.python.keras.layers.advance...</td>\n",
       "      <td>{'lr': 2e-05, 'l3_filter': 128, 'l2_filter': 3...</td>\n",
       "      <td>0.407992</td>\n",
       "      <td>0.408772</td>\n",
       "      <td>0.401416</td>\n",
       "      <td>0.40606</td>\n",
       "      <td>0.003299</td>\n",
       "      <td>37</td>\n",
       "    </tr>\n",
       "    <tr>\n",
       "      <th>26</th>\n",
       "      <td>1725.056905</td>\n",
       "      <td>5.183113</td>\n",
       "      <td>7.211680</td>\n",
       "      <td>0.271392</td>\n",
       "      <td>0.0002</td>\n",
       "      <td>256</td>\n",
       "      <td>256</td>\n",
       "      <td>64</td>\n",
       "      <td>0.6</td>\n",
       "      <td>0.6</td>\n",
       "      <td>0.2</td>\n",
       "      <td>0.4</td>\n",
       "      <td>0.5</td>\n",
       "      <td>0.2</td>\n",
       "      <td>800</td>\n",
       "      <td>100</td>\n",
       "      <td>800</td>\n",
       "      <td>&lt;class 'tensorflow.python.keras.layers.advance...</td>\n",
       "      <td>{'lr': 0.0002, 'l3_filter': 256, 'l2_filter': ...</td>\n",
       "      <td>0.675946</td>\n",
       "      <td>0.685066</td>\n",
       "      <td>0.690208</td>\n",
       "      <td>0.68374</td>\n",
       "      <td>0.005897</td>\n",
       "      <td>1</td>\n",
       "    </tr>\n",
       "    <tr>\n",
       "      <th>27</th>\n",
       "      <td>1288.556756</td>\n",
       "      <td>5.610284</td>\n",
       "      <td>7.282617</td>\n",
       "      <td>0.553798</td>\n",
       "      <td>0.0001</td>\n",
       "      <td>64</td>\n",
       "      <td>64</td>\n",
       "      <td>128</td>\n",
       "      <td>0.2</td>\n",
       "      <td>0.3</td>\n",
       "      <td>0.6</td>\n",
       "      <td>0.5</td>\n",
       "      <td>0.2</td>\n",
       "      <td>0.4</td>\n",
       "      <td>600</td>\n",
       "      <td>400</td>\n",
       "      <td>200</td>\n",
       "      <td>&lt;class 'tensorflow.python.keras.layers.advance...</td>\n",
       "      <td>{'lr': 0.0001, 'l3_filter': 64, 'l2_filter': 6...</td>\n",
       "      <td>0.649967</td>\n",
       "      <td>0.634127</td>\n",
       "      <td>0.633985</td>\n",
       "      <td>0.63936</td>\n",
       "      <td>0.007501</td>\n",
       "      <td>9</td>\n",
       "    </tr>\n",
       "    <tr>\n",
       "      <th>28</th>\n",
       "      <td>1331.625504</td>\n",
       "      <td>20.444151</td>\n",
       "      <td>8.715788</td>\n",
       "      <td>0.312289</td>\n",
       "      <td>0.0002</td>\n",
       "      <td>32</td>\n",
       "      <td>128</td>\n",
       "      <td>128</td>\n",
       "      <td>0.5</td>\n",
       "      <td>0.2</td>\n",
       "      <td>0.3</td>\n",
       "      <td>0.3</td>\n",
       "      <td>0.6</td>\n",
       "      <td>0.4</td>\n",
       "      <td>600</td>\n",
       "      <td>400</td>\n",
       "      <td>800</td>\n",
       "      <td>&lt;class 'tensorflow.python.keras.layers.advance...</td>\n",
       "      <td>{'lr': 0.0002, 'l3_filter': 32, 'l2_filter': 1...</td>\n",
       "      <td>0.649907</td>\n",
       "      <td>0.660767</td>\n",
       "      <td>0.648566</td>\n",
       "      <td>0.65308</td>\n",
       "      <td>0.005463</td>\n",
       "      <td>7</td>\n",
       "    </tr>\n",
       "    <tr>\n",
       "      <th>29</th>\n",
       "      <td>1508.629488</td>\n",
       "      <td>2.689788</td>\n",
       "      <td>8.474893</td>\n",
       "      <td>0.422650</td>\n",
       "      <td>0.0002</td>\n",
       "      <td>32</td>\n",
       "      <td>128</td>\n",
       "      <td>256</td>\n",
       "      <td>0.2</td>\n",
       "      <td>0.6</td>\n",
       "      <td>0.5</td>\n",
       "      <td>0.6</td>\n",
       "      <td>0.4</td>\n",
       "      <td>0.4</td>\n",
       "      <td>400</td>\n",
       "      <td>200</td>\n",
       "      <td>800</td>\n",
       "      <td>&lt;class 'tensorflow.python.keras.layers.advance...</td>\n",
       "      <td>{'lr': 0.0002, 'l3_filter': 32, 'l2_filter': 1...</td>\n",
       "      <td>0.643367</td>\n",
       "      <td>0.653267</td>\n",
       "      <td>0.635725</td>\n",
       "      <td>0.64412</td>\n",
       "      <td>0.007181</td>\n",
       "      <td>8</td>\n",
       "    </tr>\n",
       "    <tr>\n",
       "      <th>30</th>\n",
       "      <td>1656.513109</td>\n",
       "      <td>8.630795</td>\n",
       "      <td>7.527870</td>\n",
       "      <td>0.042709</td>\n",
       "      <td>1e-05</td>\n",
       "      <td>256</td>\n",
       "      <td>128</td>\n",
       "      <td>128</td>\n",
       "      <td>0.6</td>\n",
       "      <td>0.5</td>\n",
       "      <td>0.5</td>\n",
       "      <td>0.2</td>\n",
       "      <td>0.3</td>\n",
       "      <td>0.5</td>\n",
       "      <td>200</td>\n",
       "      <td>600</td>\n",
       "      <td>200</td>\n",
       "      <td>&lt;class 'tensorflow.python.keras.layers.advance...</td>\n",
       "      <td>{'lr': 1e-05, 'l3_filter': 256, 'l2_filter': 1...</td>\n",
       "      <td>0.469551</td>\n",
       "      <td>0.476990</td>\n",
       "      <td>0.469579</td>\n",
       "      <td>0.47204</td>\n",
       "      <td>0.003501</td>\n",
       "      <td>29</td>\n",
       "    </tr>\n",
       "    <tr>\n",
       "      <th>31</th>\n",
       "      <td>1196.027897</td>\n",
       "      <td>20.784841</td>\n",
       "      <td>6.793294</td>\n",
       "      <td>0.569032</td>\n",
       "      <td>2e-05</td>\n",
       "      <td>128</td>\n",
       "      <td>64</td>\n",
       "      <td>64</td>\n",
       "      <td>0.4</td>\n",
       "      <td>0.3</td>\n",
       "      <td>0.2</td>\n",
       "      <td>0.3</td>\n",
       "      <td>0.3</td>\n",
       "      <td>0.6</td>\n",
       "      <td>100</td>\n",
       "      <td>100</td>\n",
       "      <td>200</td>\n",
       "      <td>&lt;class 'tensorflow.python.keras.layers.advance...</td>\n",
       "      <td>{'lr': 2e-05, 'l3_filter': 128, 'l2_filter': 6...</td>\n",
       "      <td>0.474470</td>\n",
       "      <td>0.477830</td>\n",
       "      <td>0.473359</td>\n",
       "      <td>0.47522</td>\n",
       "      <td>0.001901</td>\n",
       "      <td>28</td>\n",
       "    </tr>\n",
       "    <tr>\n",
       "      <th>32</th>\n",
       "      <td>1440.692922</td>\n",
       "      <td>8.516044</td>\n",
       "      <td>7.953555</td>\n",
       "      <td>0.332794</td>\n",
       "      <td>1e-05</td>\n",
       "      <td>64</td>\n",
       "      <td>64</td>\n",
       "      <td>256</td>\n",
       "      <td>0.3</td>\n",
       "      <td>0.4</td>\n",
       "      <td>0.3</td>\n",
       "      <td>0.2</td>\n",
       "      <td>0.3</td>\n",
       "      <td>0.2</td>\n",
       "      <td>800</td>\n",
       "      <td>600</td>\n",
       "      <td>600</td>\n",
       "      <td>&lt;class 'tensorflow.python.keras.layers.advance...</td>\n",
       "      <td>{'lr': 1e-05, 'l3_filter': 64, 'l2_filter': 64...</td>\n",
       "      <td>0.417592</td>\n",
       "      <td>0.424192</td>\n",
       "      <td>0.409396</td>\n",
       "      <td>0.41706</td>\n",
       "      <td>0.006052</td>\n",
       "      <td>36</td>\n",
       "    </tr>\n",
       "    <tr>\n",
       "      <th>33</th>\n",
       "      <td>1358.332515</td>\n",
       "      <td>38.434119</td>\n",
       "      <td>6.962102</td>\n",
       "      <td>0.343970</td>\n",
       "      <td>0.0002</td>\n",
       "      <td>64</td>\n",
       "      <td>256</td>\n",
       "      <td>64</td>\n",
       "      <td>0.2</td>\n",
       "      <td>0.3</td>\n",
       "      <td>0.4</td>\n",
       "      <td>0.4</td>\n",
       "      <td>0.4</td>\n",
       "      <td>0.3</td>\n",
       "      <td>100</td>\n",
       "      <td>100</td>\n",
       "      <td>600</td>\n",
       "      <td>&lt;class 'tensorflow.python.keras.layers.advance...</td>\n",
       "      <td>{'lr': 0.0002, 'l3_filter': 64, 'l2_filter': 2...</td>\n",
       "      <td>0.673427</td>\n",
       "      <td>0.677686</td>\n",
       "      <td>0.678807</td>\n",
       "      <td>0.67664</td>\n",
       "      <td>0.002318</td>\n",
       "      <td>3</td>\n",
       "    </tr>\n",
       "    <tr>\n",
       "      <th>34</th>\n",
       "      <td>1066.034769</td>\n",
       "      <td>18.074445</td>\n",
       "      <td>5.675852</td>\n",
       "      <td>0.222477</td>\n",
       "      <td>0.0005</td>\n",
       "      <td>64</td>\n",
       "      <td>128</td>\n",
       "      <td>32</td>\n",
       "      <td>0.5</td>\n",
       "      <td>0.6</td>\n",
       "      <td>0.3</td>\n",
       "      <td>0.4</td>\n",
       "      <td>0.3</td>\n",
       "      <td>0.6</td>\n",
       "      <td>600</td>\n",
       "      <td>600</td>\n",
       "      <td>400</td>\n",
       "      <td>&lt;class 'tensorflow.python.keras.layers.advance...</td>\n",
       "      <td>{'lr': 0.0005, 'l3_filter': 64, 'l2_filter': 1...</td>\n",
       "      <td>0.551929</td>\n",
       "      <td>0.556249</td>\n",
       "      <td>0.546262</td>\n",
       "      <td>0.55148</td>\n",
       "      <td>0.004090</td>\n",
       "      <td>23</td>\n",
       "    </tr>\n",
       "    <tr>\n",
       "      <th>35</th>\n",
       "      <td>1045.927607</td>\n",
       "      <td>60.973266</td>\n",
       "      <td>6.868309</td>\n",
       "      <td>0.875529</td>\n",
       "      <td>0.0002</td>\n",
       "      <td>32</td>\n",
       "      <td>32</td>\n",
       "      <td>128</td>\n",
       "      <td>0.6</td>\n",
       "      <td>0.2</td>\n",
       "      <td>0.4</td>\n",
       "      <td>0.6</td>\n",
       "      <td>0.6</td>\n",
       "      <td>0.3</td>\n",
       "      <td>600</td>\n",
       "      <td>100</td>\n",
       "      <td>400</td>\n",
       "      <td>&lt;class 'tensorflow.python.keras.layers.advance...</td>\n",
       "      <td>{'lr': 0.0002, 'l3_filter': 32, 'l2_filter': 3...</td>\n",
       "      <td>0.570769</td>\n",
       "      <td>0.580128</td>\n",
       "      <td>0.571223</td>\n",
       "      <td>0.57404</td>\n",
       "      <td>0.004309</td>\n",
       "      <td>20</td>\n",
       "    </tr>\n",
       "    <tr>\n",
       "      <th>36</th>\n",
       "      <td>1476.288864</td>\n",
       "      <td>38.765077</td>\n",
       "      <td>8.133716</td>\n",
       "      <td>0.264813</td>\n",
       "      <td>5e-05</td>\n",
       "      <td>128</td>\n",
       "      <td>32</td>\n",
       "      <td>32</td>\n",
       "      <td>0.3</td>\n",
       "      <td>0.6</td>\n",
       "      <td>0.3</td>\n",
       "      <td>0.5</td>\n",
       "      <td>0.4</td>\n",
       "      <td>0.3</td>\n",
       "      <td>800</td>\n",
       "      <td>600</td>\n",
       "      <td>200</td>\n",
       "      <td>&lt;class 'tensorflow.python.keras.layers.advance...</td>\n",
       "      <td>{'lr': 5e-05, 'l3_filter': 128, 'l2_filter': 3...</td>\n",
       "      <td>0.444291</td>\n",
       "      <td>0.453231</td>\n",
       "      <td>0.437778</td>\n",
       "      <td>0.44510</td>\n",
       "      <td>0.006335</td>\n",
       "      <td>35</td>\n",
       "    </tr>\n",
       "    <tr>\n",
       "      <th>37</th>\n",
       "      <td>2181.059409</td>\n",
       "      <td>11.159888</td>\n",
       "      <td>9.700933</td>\n",
       "      <td>0.950757</td>\n",
       "      <td>0.0002</td>\n",
       "      <td>256</td>\n",
       "      <td>256</td>\n",
       "      <td>256</td>\n",
       "      <td>0.6</td>\n",
       "      <td>0.2</td>\n",
       "      <td>0.6</td>\n",
       "      <td>0.5</td>\n",
       "      <td>0.3</td>\n",
       "      <td>0.4</td>\n",
       "      <td>200</td>\n",
       "      <td>600</td>\n",
       "      <td>800</td>\n",
       "      <td>&lt;class 'tensorflow.python.keras.layers.advance...</td>\n",
       "      <td>{'lr': 0.0002, 'l3_filter': 256, 'l2_filter': ...</td>\n",
       "      <td>0.591288</td>\n",
       "      <td>0.595488</td>\n",
       "      <td>0.592704</td>\n",
       "      <td>0.59316</td>\n",
       "      <td>0.001745</td>\n",
       "      <td>16</td>\n",
       "    </tr>\n",
       "    <tr>\n",
       "      <th>38</th>\n",
       "      <td>1663.761295</td>\n",
       "      <td>42.536734</td>\n",
       "      <td>6.078251</td>\n",
       "      <td>0.627355</td>\n",
       "      <td>0.0005</td>\n",
       "      <td>64</td>\n",
       "      <td>256</td>\n",
       "      <td>128</td>\n",
       "      <td>0.2</td>\n",
       "      <td>0.6</td>\n",
       "      <td>0.6</td>\n",
       "      <td>0.2</td>\n",
       "      <td>0.5</td>\n",
       "      <td>0.5</td>\n",
       "      <td>400</td>\n",
       "      <td>100</td>\n",
       "      <td>100</td>\n",
       "      <td>&lt;class 'tensorflow.python.keras.layers.advance...</td>\n",
       "      <td>{'lr': 0.0005, 'l3_filter': 64, 'l2_filter': 2...</td>\n",
       "      <td>0.621408</td>\n",
       "      <td>0.626207</td>\n",
       "      <td>0.627385</td>\n",
       "      <td>0.62500</td>\n",
       "      <td>0.002585</td>\n",
       "      <td>13</td>\n",
       "    </tr>\n",
       "    <tr>\n",
       "      <th>39</th>\n",
       "      <td>942.857296</td>\n",
       "      <td>56.630388</td>\n",
       "      <td>2.286473</td>\n",
       "      <td>0.626010</td>\n",
       "      <td>0.0005</td>\n",
       "      <td>64</td>\n",
       "      <td>128</td>\n",
       "      <td>32</td>\n",
       "      <td>0.2</td>\n",
       "      <td>0.3</td>\n",
       "      <td>0.4</td>\n",
       "      <td>0.3</td>\n",
       "      <td>0.2</td>\n",
       "      <td>0.5</td>\n",
       "      <td>800</td>\n",
       "      <td>400</td>\n",
       "      <td>600</td>\n",
       "      <td>&lt;class 'tensorflow.python.keras.layers.advance...</td>\n",
       "      <td>{'lr': 0.0005, 'l3_filter': 64, 'l2_filter': 1...</td>\n",
       "      <td>0.675826</td>\n",
       "      <td>0.669887</td>\n",
       "      <td>0.676647</td>\n",
       "      <td>0.67412</td>\n",
       "      <td>0.003012</td>\n",
       "      <td>4</td>\n",
       "    </tr>\n",
       "  </tbody>\n",
       "</table>\n",
       "</div>"
      ],
      "text/plain": [
       "    mean_fit_time  std_fit_time  ...  std_test_score  rank_test_score\n",
       "0     1288.516952      3.193016  ...        0.007863               21\n",
       "1     1207.651551      2.827146  ...        0.003715               39\n",
       "2     1367.376710      2.692758  ...        0.017870               19\n",
       "3     1746.758402      7.438172  ...        0.004848                2\n",
       "4     1358.213804      1.760579  ...        0.006142               27\n",
       "5     1725.628562      3.974737  ...        0.007135               11\n",
       "6     1406.085901      2.551526  ...        0.004177               14\n",
       "7     1873.962602      9.309043  ...        0.010311                6\n",
       "8     1467.238386      0.904160  ...        0.001831               22\n",
       "9     1026.018989      9.135847  ...        0.003285               40\n",
       "10    1076.073391     18.478634  ...        0.008719               17\n",
       "11    1029.288716      4.291052  ...        0.009202               10\n",
       "12    1073.376997      2.651782  ...        0.000930               32\n",
       "13    1071.902192      3.837530  ...        0.003568               30\n",
       "14    1139.614067      1.962741  ...        0.007901               24\n",
       "15    1128.293600      6.129852  ...        0.002419               31\n",
       "16    1420.538122      5.348625  ...        0.004512               33\n",
       "17    1191.418346      1.595765  ...        0.009849               12\n",
       "18    1029.186855     18.020763  ...        0.002265               25\n",
       "19     976.048111      2.327246  ...        0.003896               38\n",
       "20    1018.866654      7.322385  ...        0.002368                5\n",
       "21    1370.367011      8.037299  ...        0.008796               15\n",
       "22    1622.219393     31.498281  ...        0.006373               18\n",
       "23    1532.572063      3.712781  ...        0.001220               26\n",
       "24    1220.939971      5.385252  ...        0.009189               34\n",
       "25    1419.438336      5.919017  ...        0.003299               37\n",
       "26    1725.056905      5.183113  ...        0.005897                1\n",
       "27    1288.556756      5.610284  ...        0.007501                9\n",
       "28    1331.625504     20.444151  ...        0.005463                7\n",
       "29    1508.629488      2.689788  ...        0.007181                8\n",
       "30    1656.513109      8.630795  ...        0.003501               29\n",
       "31    1196.027897     20.784841  ...        0.001901               28\n",
       "32    1440.692922      8.516044  ...        0.006052               36\n",
       "33    1358.332515     38.434119  ...        0.002318                3\n",
       "34    1066.034769     18.074445  ...        0.004090               23\n",
       "35    1045.927607     60.973266  ...        0.004309               20\n",
       "36    1476.288864     38.765077  ...        0.006335               35\n",
       "37    2181.059409     11.159888  ...        0.001745               16\n",
       "38    1663.761295     42.536734  ...        0.002585               13\n",
       "39     942.857296     56.630388  ...        0.003012                4\n",
       "\n",
       "[40 rows x 25 columns]"
      ]
     },
     "execution_count": 12,
     "metadata": {
      "tags": []
     },
     "output_type": "execute_result"
    }
   ],
   "source": [
    "results = pd.DataFrame(search_history.cv_results_)\n",
    "results"
   ]
  },
  {
   "cell_type": "code",
   "execution_count": 0,
   "metadata": {
    "colab": {
     "base_uri": "https://localhost:8080/",
     "height": 35
    },
    "colab_type": "code",
    "executionInfo": {
     "elapsed": 2988,
     "status": "ok",
     "timestamp": 1564838937794,
     "user": {
      "displayName": "Simrandeep Singh",
      "photoUrl": "",
      "userId": "05151590984246864371"
     },
     "user_tz": -720
    },
    "id": "VU5NTiLZz4bz",
    "outputId": "075c56b1-0849-4f70-9390-dd1c6d2acb97"
   },
   "outputs": [
    {
     "name": "stdout",
     "output_type": "stream",
     "text": [
      "True\n"
     ]
    }
   ],
   "source": [
    "results.to_csv('/content/drive/My Drive/Colab Notebooks/RandomSearch5.csv')\n",
    "print(True)"
   ]
  },
  {
   "cell_type": "code",
   "execution_count": 0,
   "metadata": {
    "colab": {
     "base_uri": "https://localhost:8080/",
     "height": 983
    },
    "colab_type": "code",
    "executionInfo": {
     "elapsed": 2403,
     "status": "ok",
     "timestamp": 1564739956249,
     "user": {
      "displayName": "Simrandeep Singh",
      "photoUrl": "",
      "userId": "05151590984246864371"
     },
     "user_tz": -720
    },
    "id": "NSpQdqg9z4fk",
    "outputId": "6e81074a-f87c-4e1a-a1e4-235a3176f8f1"
   },
   "outputs": [
    {
     "data": {
      "text/plain": [
       "<matplotlib.axes._subplots.AxesSubplot at 0x7f9c40051940>"
      ]
     },
     "execution_count": 19,
     "metadata": {
      "tags": []
     },
     "output_type": "execute_result"
    },
    {
     "data": {
      "image/png": "[encoded data removed]",
      "text/plain": [
       "<Figure size 2160x1080 with 2 Axes>"
      ]
     },
     "metadata": {
      "tags": []
     },
     "output_type": "display_data"
    }
   ],
   "source": [
    "# removing any non int castable columns and converting rest to a numeric column for heatmap analysis\n",
    "heatmap_df = results.drop(['param_act_fun', 'params'], axis=1)\n",
    "heatmap_df = heatmap_df.apply(pd.to_numeric)\n",
    "\n",
    "# this heat map analysis will allow us to find which params coreelate to our column 'mean_test_score'\n",
    "# then we can go back to our parameter distribution and make changes as needed to increase the chance of higher test accuracy. \n",
    "plt.figure(figsize=(30,15))\n",
    "sns.heatmap(heatmap_df)"
   ]
  },
  {
   "cell_type": "code",
   "execution_count": 0,
   "metadata": {
    "colab": {},
    "colab_type": "code",
    "id": "uEI1Wn5iz4oZ"
   },
   "outputs": [],
   "source": [
    "temp_df = pd.read_csv('/content/drive/My Drive/Colab Notebooks/RandomSearch2.csv')\n",
    "temp_df"
   ]
  },
  {
   "cell_type": "code",
   "execution_count": 0,
   "metadata": {
    "colab": {},
    "colab_type": "code",
    "id": "d9tUFjCPb_JN"
   },
   "outputs": [],
   "source": [
    "dir(search_history)"
   ]
  },
  {
   "cell_type": "code",
   "execution_count": 0,
   "metadata": {
    "colab": {},
    "colab_type": "code",
    "id": "-K_Uz5u2b_L_"
   },
   "outputs": [],
   "source": [
    "print(dir(search_history.best_estimator_)[::-1])\n",
    "search_history.best_estimator_"
   ]
  },
  {
   "cell_type": "markdown",
   "metadata": {
    "colab_type": "text",
    "id": "WsMKeOwDARpI"
   },
   "source": [
    "# Model output visualisation\n",
    "\n",
    "We are only viusualising the 78.6% accuracy model. "
   ]
  },
  {
   "cell_type": "code",
   "execution_count": 11,
   "metadata": {
    "colab": {
     "base_uri": "https://localhost:8080/",
     "height": 299
    },
    "colab_type": "code",
    "executionInfo": {
     "elapsed": 1039,
     "status": "ok",
     "timestamp": 1565235930857,
     "user": {
      "displayName": "Simrandeep Singh",
      "photoUrl": "",
      "userId": "05151590984246864371"
     },
     "user_tz": -720
    },
    "id": "jJ6w2SQOXmgN",
    "outputId": "71696dcd-328f-403e-de1e-73f140ddd70a"
   },
   "outputs": [
    {
     "data": {
      "text/plain": [
       "Text(0.5, 1.0, 'Train and Val loss over time.')"
      ]
     },
     "execution_count": 11,
     "metadata": {},
     "output_type": "execute_result"
    },
    {
     "data": {
      "image/png": "[encoded data removed]",
      "text/plain": [
       "<Figure size 432x288 with 1 Axes>"
      ]
     },
     "metadata": {
      "needs_background": "light"
     },
     "output_type": "display_data"
    }
   ],
   "source": [
    "val_loss = history.history['val_loss']\n",
    "train_loss = history.history['loss']\n",
    "\n",
    "plt.plot(val_loss)\n",
    "plt.plot(train_loss)\n",
    "\n",
    "plt.legend(('val_loss', 'train_loss'))\n",
    "plt.title('Train and Val loss over time.')"
   ]
  },
  {
   "cell_type": "code",
   "execution_count": 12,
   "metadata": {
    "colab": {
     "base_uri": "https://localhost:8080/",
     "height": 299
    },
    "colab_type": "code",
    "executionInfo": {
     "elapsed": 1004,
     "status": "ok",
     "timestamp": 1565235927075,
     "user": {
      "displayName": "Simrandeep Singh",
      "photoUrl": "",
      "userId": "05151590984246864371"
     },
     "user_tz": -720
    },
    "id": "v0i_a98q96Uh",
    "outputId": "f0c50411-a423-4b16-a1ae-f09e8a3c6566"
   },
   "outputs": [
    {
     "data": {
      "text/plain": [
       "Text(0.5, 1.0, 'train and val accuracy over time')"
      ]
     },
     "execution_count": 12,
     "metadata": {},
     "output_type": "execute_result"
    },
    {
     "data": {
      "image/png": "[encoded data removed]",
      "text/plain": [
       "<Figure size 432x288 with 1 Axes>"
      ]
     },
     "metadata": {
      "needs_background": "light"
     },
     "output_type": "display_data"
    }
   ],
   "source": [
    "val_acc = history.history['val_acc']\n",
    "acc = history.history['acc']\n",
    "\n",
    "plt.plot(val_acc)\n",
    "plt.plot(acc)\n",
    "\n",
    "plt.legend(('val_acc', 'acc'))\n",
    "plt.title('train and val accuracy over time')"
   ]
  },
  {
   "cell_type": "code",
   "execution_count": 0,
   "metadata": {
    "colab": {
     "base_uri": "https://localhost:8080/",
     "height": 329
    },
    "colab_type": "code",
    "executionInfo": {
     "elapsed": 713,
     "status": "ok",
     "timestamp": 1565347485764,
     "user": {
      "displayName": "Simrandeep Singh",
      "photoUrl": "",
      "userId": "05151590984246864371"
     },
     "user_tz": -720
    },
    "id": "1govloN8ARHi",
    "outputId": "57f8b21a-9947-40f6-dfe2-193c8529d245"
   },
   "outputs": [
    {
     "name": "stdout",
     "output_type": "stream",
     "text": [
      "              precision    recall  f1-score   support\n",
      "\n",
      "    airplane       0.81      0.79      0.80      1000\n",
      "  automobile       0.87      0.86      0.87      1000\n",
      "        bird       0.74      0.60      0.66      1000\n",
      "         cat       0.60      0.54      0.57      1000\n",
      "        deer       0.71      0.74      0.73      1000\n",
      "         dog       0.65      0.66      0.66      1000\n",
      "        frog       0.69      0.91      0.78      1000\n",
      "       horse       0.83      0.82      0.83      1000\n",
      "        ship       0.86      0.84      0.85      1000\n",
      "       truck       0.83      0.83      0.83      1000\n",
      "\n",
      "    accuracy                           0.76     10000\n",
      "   macro avg       0.76      0.76      0.76     10000\n",
      "weighted avg       0.76      0.76      0.76     10000\n",
      "\n"
     ]
    }
   ],
   "source": [
    "# get the argmax of each prediction made by our model. \n",
    "# some data prep. We can use numpy array too but wanted to stick with \n",
    "# industry naming conventions.\n",
    "\n",
    "y_pred = [(np.argmax(i)) for i in predict_hist]\n",
    "y_true = [i for j in y_test for i in j]\n",
    "\n",
    "report = classification_report(y_true ,y_pred, target_names=label_dict.values())\n",
    "print(report)"
   ]
  },
  {
   "cell_type": "code",
   "execution_count": 0,
   "metadata": {
    "colab": {
     "base_uri": "https://localhost:8080/",
     "height": 633
    },
    "colab_type": "code",
    "executionInfo": {
     "elapsed": 1648,
     "status": "ok",
     "timestamp": 1565348781824,
     "user": {
      "displayName": "Simrandeep Singh",
      "photoUrl": "",
      "userId": "05151590984246864371"
     },
     "user_tz": -720
    },
    "id": "CYO047qzARNR",
    "outputId": "5601b0b3-dd10-499c-8407-02051834f21d"
   },
   "outputs": [
    {
     "name": "stdout",
     "output_type": "stream",
     "text": [
      "AxesSubplot(0.125,0.125;0.62x0.755)\n"
     ]
    },
    {
     "data": {
      "image/png": "[encoded data removed]",
      "text/plain": [
       "<Figure size 1080x720 with 2 Axes>"
      ]
     },
     "metadata": {
      "tags": []
     },
     "output_type": "display_data"
    }
   ],
   "source": [
    "fig, ax = plt.subplots(figsize=(15,10))\n",
    "\n",
    "conf_matrix = sns.heatmap(confusion_matrix(y_true, y_pred), \n",
    "                          annot=True, \n",
    "                          ax=ax, \n",
    "                          xticklabels=label_dict.values(), \n",
    "                          yticklabels=label_dict.values(),\n",
    "                          fmt='.4g'\n",
    "                          )\n",
    "print(conf_matrix)"
   ]
  },
  {
   "cell_type": "code",
   "execution_count": 0,
   "metadata": {
    "colab": {},
    "colab_type": "code",
    "id": "JVVlErxDARUK"
   },
   "outputs": [],
   "source": []
  },
  {
   "cell_type": "markdown",
   "metadata": {
    "colab_type": "text",
    "id": "FwANpaABtk_Z"
   },
   "source": [
    "From the confusion matrix we can see how the classes were predicted and if the model had any overlap. \n",
    "\n",
    "The biggest overlap, as guessed, was within cat and dog as at 32x32 pixels these would look very similar. It seems there needs to be a higher level  of abstraction for this. \n",
    "\n",
    "there seems to be no issue with predicting the Frog class as it got almost all right. \n",
    "\n",
    "These observations can be confirmed by the above precision, recall and f1 scores. \n",
    "Put simply, Precision calculates how accurate a model is in predicting True values that are actually True. Precision = TP / TP + FP\n",
    "Recall calculates how many of the True labelled by the model were actually True. Recall = TP / TP + FN\n",
    "The F1 score is a function of Precision and Recall and is used when data is unbalanced.\n"
   ]
  },
  {
   "cell_type": "markdown",
   "metadata": {
    "colab_type": "text",
    "id": "tT0O7v1E9Qo3"
   },
   "source": [
    "# Saving model\n",
    "\n",
    "### house keeping stuff "
   ]
  },
  {
   "cell_type": "code",
   "execution_count": 0,
   "metadata": {
    "colab": {},
    "colab_type": "code",
    "id": "fh9YBsMkYfpW"
   },
   "outputs": [],
   "source": [
    "model.save(f'/content/drive/My Drive/Colab Notebooks/model loss {min(val_loss)} and acc {max(val_acc)}.h5')"
   ]
  },
  {
   "cell_type": "code",
   "execution_count": 0,
   "metadata": {
    "colab": {
     "base_uri": "https://localhost:8080/",
     "height": 221
    },
    "colab_type": "code",
    "executionInfo": {
     "elapsed": 5677,
     "status": "ok",
     "timestamp": 1565232037134,
     "user": {
      "displayName": "Simrandeep Singh",
      "photoUrl": "",
      "userId": "05151590984246864371"
     },
     "user_tz": -720
    },
    "id": "n_RHkMFPliAj",
    "outputId": "c3a15a4d-7877-42d4-8ec0-1451f8185aaa"
   },
   "outputs": [
    {
     "name": "stderr",
     "output_type": "stream",
     "text": [
      "WARNING: Logging before flag parsing goes to stderr.\n",
      "W0808 02:40:32.270252 140389772195712 deprecation.py:506] From /usr/local/lib/python3.6/dist-packages/tensorflow/python/ops/init_ops.py:97: calling GlorotUniform.__init__ (from tensorflow.python.ops.init_ops) with dtype is deprecated and will be removed in a future version.\n",
      "Instructions for updating:\n",
      "Call initializer instance with the dtype argument instead of passing it to the constructor\n",
      "W0808 02:40:32.272286 140389772195712 deprecation.py:506] From /usr/local/lib/python3.6/dist-packages/tensorflow/python/ops/init_ops.py:1251: calling VarianceScaling.__init__ (from tensorflow.python.ops.init_ops) with dtype is deprecated and will be removed in a future version.\n",
      "Instructions for updating:\n",
      "Call initializer instance with the dtype argument instead of passing it to the constructor\n",
      "W0808 02:40:32.273991 140389772195712 deprecation.py:506] From /usr/local/lib/python3.6/dist-packages/tensorflow/python/ops/init_ops.py:97: calling Zeros.__init__ (from tensorflow.python.ops.init_ops) with dtype is deprecated and will be removed in a future version.\n",
      "Instructions for updating:\n",
      "Call initializer instance with the dtype argument instead of passing it to the constructor\n"
     ]
    }
   ],
   "source": [
    "ready_model = load_model('/content/drive/My Drive/Colab Notebooks/model loss 0.5925337381362915 and acc 0.8019999861717224.h5')"
   ]
  },
  {
   "cell_type": "code",
   "execution_count": 0,
   "metadata": {
    "colab": {
     "base_uri": "https://localhost:8080/",
     "height": 55
    },
    "colab_type": "code",
    "executionInfo": {
     "elapsed": 737,
     "status": "ok",
     "timestamp": 1565232190830,
     "user": {
      "displayName": "Simrandeep Singh",
      "photoUrl": "",
      "userId": "05151590984246864371"
     },
     "user_tz": -720
    },
    "id": "x4uR1KpqF5wf",
    "outputId": "241205f6-b216-4e81-88b9-0f2bd0b4b59c"
   },
   "outputs": [
    {
     "name": "stdout",
     "output_type": "stream",
     "text": [
      "{\"class_name\": \"Sequential\", \"config\": {\"name\": \"sequential_11\", \"layers\": [{\"class_name\": \"Conv2D\", \"config\": {\"name\": \"conv2d_33\", \"trainable\": true, \"batch_input_shape\": [null, 32, 32, 3], \"dtype\": \"float32\", \"filters\": 128, \"kernel_size\": [4, 4], \"strides\": [2, 2], \"padding\": \"valid\", \"data_format\": \"channels_last\", \"dilation_rate\": [1, 1], \"activation\": \"linear\", \"use_bias\": true, \"kernel_initializer\": {\"class_name\": \"GlorotUniform\", \"config\": {\"seed\": null, \"dtype\": \"float32\"}}, \"bias_initializer\": {\"class_name\": \"Zeros\", \"config\": {\"dtype\": \"float32\"}}, \"kernel_regularizer\": null, \"bias_regularizer\": null, \"activity_regularizer\": null, \"kernel_constraint\": null, \"bias_constraint\": null}}, {\"class_name\": \"LeakyReLU\", \"config\": {\"name\": \"leaky_re_lu_55\", \"trainable\": true, \"dtype\": \"float32\", \"alpha\": 0.30000001192092896}}, {\"class_name\": \"Dropout\", \"config\": {\"name\": \"dropout_50\", \"trainable\": true, \"dtype\": \"float32\", \"rate\": 0.1, \"noise_shape\": null, \"seed\": null}}, {\"class_name\": \"Conv2D\", \"config\": {\"name\": \"conv2d_34\", \"trainable\": true, \"dtype\": \"float32\", \"filters\": 64, \"kernel_size\": [3, 3], \"strides\": [2, 2], \"padding\": \"valid\", \"data_format\": \"channels_last\", \"dilation_rate\": [1, 1], \"activation\": \"linear\", \"use_bias\": true, \"kernel_initializer\": {\"class_name\": \"GlorotUniform\", \"config\": {\"seed\": null, \"dtype\": \"float32\"}}, \"bias_initializer\": {\"class_name\": \"Zeros\", \"config\": {\"dtype\": \"float32\"}}, \"kernel_regularizer\": null, \"bias_regularizer\": null, \"activity_regularizer\": null, \"kernel_constraint\": null, \"bias_constraint\": null}}, {\"class_name\": \"LeakyReLU\", \"config\": {\"name\": \"leaky_re_lu_56\", \"trainable\": true, \"dtype\": \"float32\", \"alpha\": 0.30000001192092896}}, {\"class_name\": \"Dropout\", \"config\": {\"name\": \"dropout_51\", \"trainable\": true, \"dtype\": \"float32\", \"rate\": 0.2, \"noise_shape\": null, \"seed\": null}}, {\"class_name\": \"Conv2D\", \"config\": {\"name\": \"conv2d_35\", \"trainable\": true, \"dtype\": \"float32\", \"filters\": 32, \"kernel_size\": [3, 3], \"strides\": [1, 1], \"padding\": \"valid\", \"data_format\": \"channels_last\", \"dilation_rate\": [1, 1], \"activation\": \"linear\", \"use_bias\": true, \"kernel_initializer\": {\"class_name\": \"GlorotUniform\", \"config\": {\"seed\": null, \"dtype\": \"float32\"}}, \"bias_initializer\": {\"class_name\": \"Zeros\", \"config\": {\"dtype\": \"float32\"}}, \"kernel_regularizer\": null, \"bias_regularizer\": null, \"activity_regularizer\": null, \"kernel_constraint\": null, \"bias_constraint\": null}}, {\"class_name\": \"LeakyReLU\", \"config\": {\"name\": \"leaky_re_lu_57\", \"trainable\": true, \"dtype\": \"float32\", \"alpha\": 0.30000001192092896}}, {\"class_name\": \"Dropout\", \"config\": {\"name\": \"dropout_52\", \"trainable\": true, \"dtype\": \"float32\", \"rate\": 0.4, \"noise_shape\": null, \"seed\": null}}, {\"class_name\": \"Flatten\", \"config\": {\"name\": \"flatten_11\", \"trainable\": true, \"dtype\": \"float32\", \"data_format\": \"channels_last\"}}, {\"class_name\": \"Dense\", \"config\": {\"name\": \"dense_33\", \"trainable\": true, \"dtype\": \"float32\", \"units\": 800, \"activation\": \"linear\", \"use_bias\": true, \"kernel_initializer\": {\"class_name\": \"GlorotUniform\", \"config\": {\"seed\": null, \"dtype\": \"float32\"}}, \"bias_initializer\": {\"class_name\": \"Zeros\", \"config\": {\"dtype\": \"float32\"}}, \"kernel_regularizer\": null, \"bias_regularizer\": null, \"activity_regularizer\": null, \"kernel_constraint\": null, \"bias_constraint\": null}}, {\"class_name\": \"LeakyReLU\", \"config\": {\"name\": \"leaky_re_lu_58\", \"trainable\": true, \"dtype\": \"float32\", \"alpha\": 0.30000001192092896}}, {\"class_name\": \"Dropout\", \"config\": {\"name\": \"dropout_53\", \"trainable\": true, \"dtype\": \"float32\", \"rate\": 0.1, \"noise_shape\": null, \"seed\": null}}, {\"class_name\": \"Dense\", \"config\": {\"name\": \"dense_34\", \"trainable\": true, \"dtype\": \"float32\", \"units\": 400, \"activation\": \"linear\", \"use_bias\": true, \"kernel_initializer\": {\"class_name\": \"GlorotUniform\", \"config\": {\"seed\": null, \"dtype\": \"float32\"}}, \"bias_initializer\": {\"class_name\": \"Zeros\", \"config\": {\"dtype\": \"float32\"}}, \"kernel_regularizer\": null, \"bias_regularizer\": null, \"activity_regularizer\": null, \"kernel_constraint\": null, \"bias_constraint\": null}}, {\"class_name\": \"LeakyReLU\", \"config\": {\"name\": \"leaky_re_lu_59\", \"trainable\": true, \"dtype\": \"float32\", \"alpha\": 0.30000001192092896}}, {\"class_name\": \"Dropout\", \"config\": {\"name\": \"dropout_54\", \"trainable\": true, \"dtype\": \"float32\", \"rate\": 0.2, \"noise_shape\": null, \"seed\": null}}, {\"class_name\": \"Dense\", \"config\": {\"name\": \"dense_35\", \"trainable\": true, \"dtype\": \"float32\", \"units\": 10, \"activation\": \"softmax\", \"use_bias\": true, \"kernel_initializer\": {\"class_name\": \"GlorotUniform\", \"config\": {\"seed\": null, \"dtype\": \"float32\"}}, \"bias_initializer\": {\"class_name\": \"Zeros\", \"config\": {\"dtype\": \"float32\"}}, \"kernel_regularizer\": null, \"bias_regularizer\": null, \"activity_regularizer\": null, \"kernel_constraint\": null, \"bias_constraint\": null}}]}, \"keras_version\": \"2.2.4-tf\", \"backend\": \"tensorflow\"}\n"
     ]
    }
   ],
   "source": [
    "print(ready_model.to_json())"
   ]
  },
  {
   "cell_type": "code",
   "execution_count": 0,
   "metadata": {
    "colab": {},
    "colab_type": "code",
    "id": "2IJJBfYaGa9f"
   },
   "outputs": [],
   "source": []
  }
 ],
 "metadata": {
  "accelerator": "GPU",
  "colab": {
   "collapsed_sections": [
    "utE06WKYXmem",
    "fE5P2U4MXme5",
    "SjJvTfNrXmfn",
    "VHQVfQVAx4g9"
   ],
   "machine_shape": "hm",
   "name": "phase2.ipynb",
   "provenance": [],
   "toc_visible": true,
   "version": "0.3.2"
  },
  "kernelspec": {
   "display_name": "Python 3",
   "language": "python",
   "name": "python3"
  },
  "language_info": {
   "codemirror_mode": {
    "name": "ipython",
    "version": 3
   },
   "file_extension": ".py",
   "mimetype": "text/x-python",
   "name": "python",
   "nbconvert_exporter": "python",
   "pygments_lexer": "ipython3",
   "version": "3.6.9"
  }
 },
 "nbformat": 4,
 "nbformat_minor": 1
}
